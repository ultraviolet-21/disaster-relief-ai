{
  "nbformat": 4,
  "nbformat_minor": 0,
  "metadata": {
    "colab": {
      "provenance": [],
      "include_colab_link": true
    },
    "kernelspec": {
      "name": "python3",
      "display_name": "Python 3"
    }
  },
  "cells": [
    {
      "cell_type": "markdown",
      "metadata": {
        "id": "view-in-github",
        "colab_type": "text"
      },
      "source": [
        "<a href=\"https://colab.research.google.com/github/ultraviolet-21/disaster-relief-ai/blob/main/Copy_of_DisasterRelief_Section2.ipynb\" target=\"_parent\"><img src=\"https://colab.research.google.com/assets/colab-badge.svg\" alt=\"Open In Colab\"/></a>"
      ]
    },
    {
      "cell_type": "markdown",
      "metadata": {
        "id": "3knkHZcWKp2k"
      },
      "source": [
        "# Project: Disaster Relief\n",
        "#Section 2: Data Preprocessing and Simple Models\n"
      ]
    },
    {
      "cell_type": "markdown",
      "metadata": {
        "id": "y5gBwlTa5EUR"
      },
      "source": [
        "Today we will be building some more sophisticated models called One-hot-encoding, CountVectorizer, and Bag of Words. You can review the slides to remember how these models work. But first we will need to clean our data a little bit, an important step in any AI Pipeline."
      ]
    },
    {
      "cell_type": "markdown",
      "metadata": {
        "id": "EbW0_pxGhSKM"
      },
      "source": [
        "In this notebook we'll be:\n",
        "*   Preprocessing the Dataset for ML\n",
        "*   Implementing a Bag of Words Vectorizer\n",
        "*   Implementing Logistic Regression ML Models\n",
        "\n"
      ]
    },
    {
      "cell_type": "code",
      "metadata": {
        "id": "wpVg1HHxHoV9",
        "colab": {
          "base_uri": "https://localhost:8080/"
        },
        "outputId": "73a63935-10ae-4f1a-9bc2-12312708adae"
      },
      "source": [
        "#@title Load your dataset { display-mode: \"form\" }\n",
        "# Run this every time you open the spreadsheet\n",
        "%load_ext autoreload\n",
        "%autoreload 2\n",
        "from collections import Counter\n",
        "from random import sample\n",
        "from importlib.machinery import SourceFileLoader\n",
        "import numpy as np\n",
        "from os.path import join\n",
        "import warnings\n",
        "warnings.filterwarnings(\"ignore\")\n",
        "\n",
        "import nltk\n",
        "nltk.download('punkt')\n",
        "import seaborn as sns\n",
        "import matplotlib\n",
        "import matplotlib.pyplot as plt\n",
        "from nltk.tokenize import sent_tokenize, word_tokenize\n",
        "from nltk.stem.wordnet import WordNetLemmatizer\n",
        "from nltk.stem.porter import *\n",
        "from nltk.corpus import stopwords\n",
        "nltk.download('stopwords' ,quiet=True)\n",
        "from sklearn.feature_extraction.text import CountVectorizer\n",
        "from sklearn.linear_model import LogisticRegression\n",
        "from sklearn.model_selection import train_test_split\n",
        "import pandas as pd\n",
        "from sklearn.metrics import multilabel_confusion_matrix\n",
        "from sklearn import metrics\n",
        "import gdown\n",
        "\n",
        "\n",
        "!wget -O ./disaster_data.csv 'https://storage.googleapis.com/inspirit-ai-data-bucket-1/Data/AI%20Scholars/Sessions%206%20-%2010%20(Projects)/Project%20-%20Disaster%20Relief/disaster_data.csv'\n",
        "dataset_path = './disaster_data.csv'\n",
        "\n",
        "import nltk\n",
        "import string\n",
        "nltk.download('stopwords')\n",
        "\n",
        "\n",
        "nltk.download('wordnet')"
      ],
      "execution_count": null,
      "outputs": [
        {
          "output_type": "stream",
          "name": "stderr",
          "text": [
            "[nltk_data] Downloading package punkt to /root/nltk_data...\n",
            "[nltk_data]   Unzipping tokenizers/punkt.zip.\n"
          ]
        },
        {
          "output_type": "stream",
          "name": "stdout",
          "text": [
            "--2022-06-28 20:46:52--  https://storage.googleapis.com/inspirit-ai-data-bucket-1/Data/AI%20Scholars/Sessions%206%20-%2010%20(Projects)/Project%20-%20Disaster%20Relief/disaster_data.csv\n",
            "Resolving storage.googleapis.com (storage.googleapis.com)... 173.194.69.128, 108.177.119.128, 108.177.127.128, ...\n",
            "Connecting to storage.googleapis.com (storage.googleapis.com)|173.194.69.128|:443... connected.\n",
            "HTTP request sent, awaiting response... 200 OK\n",
            "Length: 236777 (231K) [text/csv]\n",
            "Saving to: ‘./disaster_data.csv’\n",
            "\n",
            "\r./disaster_data.csv   0%[                    ]       0  --.-KB/s               \r./disaster_data.csv 100%[===================>] 231.23K  --.-KB/s    in 0.002s  \n",
            "\n",
            "2022-06-28 20:46:52 (123 MB/s) - ‘./disaster_data.csv’ saved [236777/236777]\n",
            "\n"
          ]
        },
        {
          "output_type": "stream",
          "name": "stderr",
          "text": [
            "[nltk_data] Downloading package stopwords to /root/nltk_data...\n",
            "[nltk_data]   Package stopwords is already up-to-date!\n",
            "[nltk_data] Downloading package wordnet to /root/nltk_data...\n",
            "[nltk_data]   Unzipping corpora/wordnet.zip.\n"
          ]
        },
        {
          "output_type": "execute_result",
          "data": {
            "text/plain": [
              "True"
            ]
          },
          "metadata": {},
          "execution_count": 1
        }
      ]
    },
    {
      "cell_type": "code",
      "metadata": {
        "id": "ACwiMJ0uC7Ca"
      },
      "source": [
        "#@title If the previous cell fails to load data, use this cell\n",
        "import re\n",
        "import gdown\n",
        "import seaborn as sns\n",
        "import pandas as pd\n",
        "import numpy as np\n",
        "from torchtext.vocab import GloVe\n",
        "from sklearn.model_selection import train_test_split\n",
        "\n",
        "\n",
        "\n",
        "from sklearn import metrics\n",
        "from sklearn.linear_model import LogisticRegression\n",
        "from sklearn.metrics import classification_report\n",
        "\n",
        "from sklearn.metrics import precision_recall_fscore_support\n",
        "from sklearn.metrics import accuracy_score\n",
        "from sklearn.metrics import confusion_matrix\n",
        "import matplotlib\n",
        "import matplotlib.pyplot as plt\n",
        "import requests, io, zipfile"
      ],
      "execution_count": null,
      "outputs": []
    },
    {
      "cell_type": "markdown",
      "metadata": {
        "id": "GYFUn48ZeX5C"
      },
      "source": [
        "# Introduction"
      ]
    },
    {
      "cell_type": "markdown",
      "metadata": {
        "id": "pHy-dPU0c7bD"
      },
      "source": [
        "Up until now, we have looked at disaster-related tweets, made a rule-based classifier, and evaluated it. Today, we shall clean the data, stem it, and learn about One-Hot Encoding, CountVectorizer, and Logistic Regression.\n",
        "\n",
        "Before, we do all this, we must understand what a model really is."
      ]
    },
    {
      "cell_type": "markdown",
      "metadata": {
        "id": "HyDHWJg1eZdG"
      },
      "source": [
        "What is a model? A model is something that we will make to predict the category of a given tweet. It is a numerical understanding of the data such that given a new data point, we can figure out how it links to the previous data. This is a crude definition, which you will understand more through this project.\n",
        "\n",
        "The models we have used or will use in this project are:\n",
        "\n",
        "1. Rule Based Classifier (You specify rules based on which the model gives the output - the category of the tweet)\n",
        "2. CountVectorizer + Logistic Regression: A model based on counting the number of occurances of a word and applying regression on it to predict the category of a new tweet\n",
        "3. Word2Vec + Logistic Regression: A model which applies the idea that words that occur in similar contexts tend to be close in a sentence, and uses this to predict the category of the tweet.\n"
      ]
    },
    {
      "cell_type": "markdown",
      "metadata": {
        "id": "lCUv39e9UbZS"
      },
      "source": [
        "## Data Preprocessing\n",
        "\n",
        "Before we can jump into building a model, we must clean the data a little bit!"
      ]
    },
    {
      "cell_type": "code",
      "metadata": {
        "id": "1xsl3tDctOMo"
      },
      "source": [
        "# Load the data.\n",
        "disaster_tweets = pd.read_csv('disaster_data.csv',encoding =\"ISO-8859-1\")"
      ],
      "execution_count": null,
      "outputs": []
    },
    {
      "cell_type": "markdown",
      "source": [
        "**Exercise:** Show the top five tweets in our `disaster_tweets` dataset."
      ],
      "metadata": {
        "id": "eOINtlLace03"
      }
    },
    {
      "cell_type": "code",
      "source": [
        "### Your code here\n",
        "disaster_tweets.head()"
      ],
      "metadata": {
        "id": "YBMFak2mdcf0",
        "colab": {
          "base_uri": "https://localhost:8080/",
          "height": 206
        },
        "outputId": "92ac2949-321e-4a51-b7b6-ab5080f3d4ae"
      },
      "execution_count": null,
      "outputs": [
        {
          "output_type": "execute_result",
          "data": {
            "text/plain": [
              "                                 tweet_id  \\\n",
              "0  ca9e24c8-396d-4502-8b45-18895df5333e_0   \n",
              "1            twitter_resource_tweets_1692   \n",
              "2    625b46e2-0b81-41ea-826e-4535fe9b39b8   \n",
              "3            twitter_resource_tweets_1699   \n",
              "4    c3bfea72-d377-445c-b4b8-e8ebca0e7fbb   \n",
              "\n",
              "                                                text category need_or_resource  \n",
              "0  Donations of batteries, flashlights, and clean...   Energy             need  \n",
              "1  I want hurricane Sandy to cone so I can be stu...     None              NaN  \n",
              "2  Hi, I can help prepare food, serve food, offer...     Food         resource  \n",
              "3                          I cant believe Sandy.....     None              NaN  \n",
              "4  I have children and adult clothes including ja...    Water         resource  "
            ],
            "text/html": [
              "\n",
              "  <div id=\"df-04c8b31a-bbb4-485b-8497-79eb515b477f\">\n",
              "    <div class=\"colab-df-container\">\n",
              "      <div>\n",
              "<style scoped>\n",
              "    .dataframe tbody tr th:only-of-type {\n",
              "        vertical-align: middle;\n",
              "    }\n",
              "\n",
              "    .dataframe tbody tr th {\n",
              "        vertical-align: top;\n",
              "    }\n",
              "\n",
              "    .dataframe thead th {\n",
              "        text-align: right;\n",
              "    }\n",
              "</style>\n",
              "<table border=\"1\" class=\"dataframe\">\n",
              "  <thead>\n",
              "    <tr style=\"text-align: right;\">\n",
              "      <th></th>\n",
              "      <th>tweet_id</th>\n",
              "      <th>text</th>\n",
              "      <th>category</th>\n",
              "      <th>need_or_resource</th>\n",
              "    </tr>\n",
              "  </thead>\n",
              "  <tbody>\n",
              "    <tr>\n",
              "      <th>0</th>\n",
              "      <td>ca9e24c8-396d-4502-8b45-18895df5333e_0</td>\n",
              "      <td>Donations of batteries, flashlights, and clean...</td>\n",
              "      <td>Energy</td>\n",
              "      <td>need</td>\n",
              "    </tr>\n",
              "    <tr>\n",
              "      <th>1</th>\n",
              "      <td>twitter_resource_tweets_1692</td>\n",
              "      <td>I want hurricane Sandy to cone so I can be stu...</td>\n",
              "      <td>None</td>\n",
              "      <td>NaN</td>\n",
              "    </tr>\n",
              "    <tr>\n",
              "      <th>2</th>\n",
              "      <td>625b46e2-0b81-41ea-826e-4535fe9b39b8</td>\n",
              "      <td>Hi, I can help prepare food, serve food, offer...</td>\n",
              "      <td>Food</td>\n",
              "      <td>resource</td>\n",
              "    </tr>\n",
              "    <tr>\n",
              "      <th>3</th>\n",
              "      <td>twitter_resource_tweets_1699</td>\n",
              "      <td>I cant believe Sandy.....</td>\n",
              "      <td>None</td>\n",
              "      <td>NaN</td>\n",
              "    </tr>\n",
              "    <tr>\n",
              "      <th>4</th>\n",
              "      <td>c3bfea72-d377-445c-b4b8-e8ebca0e7fbb</td>\n",
              "      <td>I have children and adult clothes including ja...</td>\n",
              "      <td>Water</td>\n",
              "      <td>resource</td>\n",
              "    </tr>\n",
              "  </tbody>\n",
              "</table>\n",
              "</div>\n",
              "      <button class=\"colab-df-convert\" onclick=\"convertToInteractive('df-04c8b31a-bbb4-485b-8497-79eb515b477f')\"\n",
              "              title=\"Convert this dataframe to an interactive table.\"\n",
              "              style=\"display:none;\">\n",
              "        \n",
              "  <svg xmlns=\"http://www.w3.org/2000/svg\" height=\"24px\"viewBox=\"0 0 24 24\"\n",
              "       width=\"24px\">\n",
              "    <path d=\"M0 0h24v24H0V0z\" fill=\"none\"/>\n",
              "    <path d=\"M18.56 5.44l.94 2.06.94-2.06 2.06-.94-2.06-.94-.94-2.06-.94 2.06-2.06.94zm-11 1L8.5 8.5l.94-2.06 2.06-.94-2.06-.94L8.5 2.5l-.94 2.06-2.06.94zm10 10l.94 2.06.94-2.06 2.06-.94-2.06-.94-.94-2.06-.94 2.06-2.06.94z\"/><path d=\"M17.41 7.96l-1.37-1.37c-.4-.4-.92-.59-1.43-.59-.52 0-1.04.2-1.43.59L10.3 9.45l-7.72 7.72c-.78.78-.78 2.05 0 2.83L4 21.41c.39.39.9.59 1.41.59.51 0 1.02-.2 1.41-.59l7.78-7.78 2.81-2.81c.8-.78.8-2.07 0-2.86zM5.41 20L4 18.59l7.72-7.72 1.47 1.35L5.41 20z\"/>\n",
              "  </svg>\n",
              "      </button>\n",
              "      \n",
              "  <style>\n",
              "    .colab-df-container {\n",
              "      display:flex;\n",
              "      flex-wrap:wrap;\n",
              "      gap: 12px;\n",
              "    }\n",
              "\n",
              "    .colab-df-convert {\n",
              "      background-color: #E8F0FE;\n",
              "      border: none;\n",
              "      border-radius: 50%;\n",
              "      cursor: pointer;\n",
              "      display: none;\n",
              "      fill: #1967D2;\n",
              "      height: 32px;\n",
              "      padding: 0 0 0 0;\n",
              "      width: 32px;\n",
              "    }\n",
              "\n",
              "    .colab-df-convert:hover {\n",
              "      background-color: #E2EBFA;\n",
              "      box-shadow: 0px 1px 2px rgba(60, 64, 67, 0.3), 0px 1px 3px 1px rgba(60, 64, 67, 0.15);\n",
              "      fill: #174EA6;\n",
              "    }\n",
              "\n",
              "    [theme=dark] .colab-df-convert {\n",
              "      background-color: #3B4455;\n",
              "      fill: #D2E3FC;\n",
              "    }\n",
              "\n",
              "    [theme=dark] .colab-df-convert:hover {\n",
              "      background-color: #434B5C;\n",
              "      box-shadow: 0px 1px 3px 1px rgba(0, 0, 0, 0.15);\n",
              "      filter: drop-shadow(0px 1px 2px rgba(0, 0, 0, 0.3));\n",
              "      fill: #FFFFFF;\n",
              "    }\n",
              "  </style>\n",
              "\n",
              "      <script>\n",
              "        const buttonEl =\n",
              "          document.querySelector('#df-04c8b31a-bbb4-485b-8497-79eb515b477f button.colab-df-convert');\n",
              "        buttonEl.style.display =\n",
              "          google.colab.kernel.accessAllowed ? 'block' : 'none';\n",
              "\n",
              "        async function convertToInteractive(key) {\n",
              "          const element = document.querySelector('#df-04c8b31a-bbb4-485b-8497-79eb515b477f');\n",
              "          const dataTable =\n",
              "            await google.colab.kernel.invokeFunction('convertToInteractive',\n",
              "                                                     [key], {});\n",
              "          if (!dataTable) return;\n",
              "\n",
              "          const docLinkHtml = 'Like what you see? Visit the ' +\n",
              "            '<a target=\"_blank\" href=https://colab.research.google.com/notebooks/data_table.ipynb>data table notebook</a>'\n",
              "            + ' to learn more about interactive tables.';\n",
              "          element.innerHTML = '';\n",
              "          dataTable['output_type'] = 'display_data';\n",
              "          await google.colab.output.renderOutput(dataTable, element);\n",
              "          const docLink = document.createElement('div');\n",
              "          docLink.innerHTML = docLinkHtml;\n",
              "          element.appendChild(docLink);\n",
              "        }\n",
              "      </script>\n",
              "    </div>\n",
              "  </div>\n",
              "  "
            ]
          },
          "metadata": {},
          "execution_count": 3
        }
      ]
    },
    {
      "cell_type": "markdown",
      "metadata": {
        "id": "m6YI_yKLtOMu"
      },
      "source": [
        "**Discussion Exercise**: Consider the tweet *I really need food.... I am very hungry. The hunger is unbearable. #pleasehelp*\n",
        "\n",
        "1. Are all words in the tweet equally informative?\n",
        "2. Are there any words in this sentence that mean the same thing, but are technically distinct words?\n",
        "3. Are there any unnecessary words or symbols that we could remove from the tweet before building a model?\n",
        "\n",
        "We are going to play with three pre-processing steps to address these two questions."
      ]
    },
    {
      "cell_type": "markdown",
      "metadata": {
        "id": "RA464Y6cLTvY"
      },
      "source": [
        "###Removal of non alphabetic characters\n",
        "\n",
        "In tweet classification we use words as the features, so it's important to remove unwanted characters such as numbers and punctuation marks as they don't provide us with any valuable information.\n",
        "\n",
        "To do this, we'll use **regular expressions**. Regular expressions are a powerful tool that perform *pattern matching*, allowing us to search a piece of text for patterns and replace all occurrences of a pattern with something else.\n",
        "\n",
        "For example, suppose we want to remove all occurrences of the letter \"X\" from a block of text (for whatever reason). This is the same as replacing the letter \"X\" with the empty string \"\". We can use the function `re.sub` to do this in Python:\n",
        "\n",
        "> `text = re.sub(r\"X\", \"\", text)`\n",
        "\n",
        "Below, we use `tweets = tweets.apply(lambda x: re.sub(r'[^a-zA-Z0-9]+', ' ',x))` to use regular expressions on every tweet in the `tweets` data.\n",
        "\n",
        "What is our `re.sub` function replacing?"
      ]
    },
    {
      "cell_type": "code",
      "metadata": {
        "id": "ipcc-gW4pV_H"
      },
      "source": [
        "#Read the tweet data and convert it to lowercase\n",
        "tweets = disaster_tweets['text'].str.lower()\n",
        "tweets = tweets.apply(lambda x: re.sub(r'[^a-zA-Z0-9]+', ' ',x))"
      ],
      "execution_count": null,
      "outputs": []
    },
    {
      "cell_type": "code",
      "metadata": {
        "id": "ZZ4U8NqwLqkC"
      },
      "source": [
        "#Extract the labels from the csv\n",
        "tweet_labels = disaster_tweets['category']"
      ],
      "execution_count": null,
      "outputs": []
    },
    {
      "cell_type": "markdown",
      "metadata": {
        "id": "EZegZdHEtOMu"
      },
      "source": [
        "### Tokenizing\n",
        "First we need to split a sentence into individual words, or *tokens*.\n"
      ]
    },
    {
      "cell_type": "markdown",
      "metadata": {
        "id": "TBHJd1zzbP5y"
      },
      "source": [
        "###**Discussion Exercise**:  "
      ]
    },
    {
      "cell_type": "markdown",
      "metadata": {
        "id": "MhQawpZhZh0i"
      },
      "source": [
        "What would be the token list be of the following sentence be? \"*AI is so fun! I love to learn about NLP and machine learning!*\"\"\n",
        "\n",
        "Discuss your answer with your group, then write it down in your worksheet."
      ]
    },
    {
      "cell_type": "code",
      "metadata": {
        "id": "d9Kp7TmUP4jV",
        "cellView": "form",
        "colab": {
          "base_uri": "https://localhost:8080/"
        },
        "outputId": "eeed93ca-dd45-4d25-a3f2-b2c8eb8aa350"
      },
      "source": [
        "#@title Tokenizing\n",
        "tweet = \"AI is so fun! I love to learn about NLP and machine learning! Enter your own tweet here\" #@param {type:'string'}\n",
        "for i in word_tokenize(tweet):\n",
        "  print(i)"
      ],
      "execution_count": null,
      "outputs": [
        {
          "output_type": "stream",
          "name": "stdout",
          "text": [
            "AI\n",
            "is\n",
            "so\n",
            "fun\n",
            "!\n",
            "I\n",
            "love\n",
            "to\n",
            "learn\n",
            "about\n",
            "NLP\n",
            "and\n",
            "machine\n",
            "learning\n",
            "!\n",
            "Enter\n",
            "your\n",
            "own\n",
            "tweet\n",
            "here\n"
          ]
        }
      ]
    },
    {
      "cell_type": "markdown",
      "metadata": {
        "id": "FOdgIHG1XyTc"
      },
      "source": [
        "## Stemming and Lemmatization"
      ]
    },
    {
      "cell_type": "markdown",
      "metadata": {
        "id": "rxy-DT6VX1ow"
      },
      "source": [
        "Remember that the goal of both stemming and lemmatization is to reduce inflectional forms and sometimes derivationally related forms of a word to a common base form.\n",
        "\n",
        "A difference between stemming and lemmatization is that stemming looks at the current word only, while lemmatization also takes the context into consideration. Either way, this pre-processing step could be somewhat tedious. Luckily, the powerful `nltk`, (short for the [National Language Toolkit](https://www.nltk.org/) library), provides tools for both.\n"
      ]
    },
    {
      "cell_type": "markdown",
      "metadata": {
        "id": "FqiJUBS_tONG"
      },
      "source": [
        "\n",
        "### Exercise: Stemming using the Porter stemmer\n",
        "*Porter's algorithm*, developed in the 1980s, is one of the most commonly used stemmers.  \n"
      ]
    },
    {
      "cell_type": "markdown",
      "metadata": {
        "id": "bOZgX-PUX6c8"
      },
      "source": [
        "Try and find a word that Porter's stemming doesn't work well on! (Hint: Try some plurals of words that end in -e)\n",
        "\n",
        "What happens when you input multiple plural words?"
      ]
    },
    {
      "cell_type": "code",
      "metadata": {
        "id": "LZJvHmIttONI",
        "colab": {
          "base_uri": "https://localhost:8080/"
        },
        "outputId": "97220958-7f1c-4df0-b767-8d69833e7774"
      },
      "source": [
        "#@title Stem words { run: \"auto\", vertical-output: true, display-mode: \"form\" }\n",
        "stemmer = PorterStemmer()\n",
        "word = \"category\" #@param {type:\"string\"}\n",
        "print(stemmer.stem(word))\n"
      ],
      "execution_count": null,
      "outputs": [
        {
          "output_type": "stream",
          "name": "stdout",
          "text": [
            "categori\n"
          ]
        }
      ]
    },
    {
      "cell_type": "markdown",
      "metadata": {
        "id": "UDL4h--FtONM"
      },
      "source": [
        "### Lemmatizer\n",
        "\n",
        "With the stemmer, you might have found that the results may look a bit mechanical. This is because the Porter's algorithm is essentially a sequential application of a set of rules. To get better looking results, let's try out a lemmatizer."
      ]
    },
    {
      "cell_type": "code",
      "metadata": {
        "id": "VidwNdk0tONO",
        "colab": {
          "base_uri": "https://localhost:8080/",
          "height": 1000
        },
        "outputId": "bb3fb391-df42-431e-e7eb-b68e71205f7c"
      },
      "source": [
        "#@title Lemmatize Words { run: \"auto\", vertical-output: true, display-mode: \"form\" }\n",
        "# Get the lemmatizer\n",
        "lemma = WordNetLemmatizer()\n",
        "word = \"happiness\" #@param {type:\"string\"}\n",
        "print(lemma.lemmatize(word))"
      ],
      "execution_count": null,
      "outputs": [
        {
          "output_type": "error",
          "ename": "LookupError",
          "evalue": "ignored",
          "traceback": [
            "\u001b[0;31m---------------------------------------------------------------------------\u001b[0m",
            "\u001b[0;31mLookupError\u001b[0m                               Traceback (most recent call last)",
            "\u001b[0;32m/usr/local/lib/python3.7/dist-packages/nltk/corpus/util.py\u001b[0m in \u001b[0;36m__load\u001b[0;34m(self)\u001b[0m\n\u001b[1;32m     83\u001b[0m                 \u001b[0;32mtry\u001b[0m\u001b[0;34m:\u001b[0m\u001b[0;34m\u001b[0m\u001b[0;34m\u001b[0m\u001b[0m\n\u001b[0;32m---> 84\u001b[0;31m                     \u001b[0mroot\u001b[0m \u001b[0;34m=\u001b[0m \u001b[0mnltk\u001b[0m\u001b[0;34m.\u001b[0m\u001b[0mdata\u001b[0m\u001b[0;34m.\u001b[0m\u001b[0mfind\u001b[0m\u001b[0;34m(\u001b[0m\u001b[0;34mf\"{self.subdir}/{zip_name}\"\u001b[0m\u001b[0;34m)\u001b[0m\u001b[0;34m\u001b[0m\u001b[0;34m\u001b[0m\u001b[0m\n\u001b[0m\u001b[1;32m     85\u001b[0m                 \u001b[0;32mexcept\u001b[0m \u001b[0mLookupError\u001b[0m\u001b[0;34m:\u001b[0m\u001b[0;34m\u001b[0m\u001b[0;34m\u001b[0m\u001b[0m\n",
            "\u001b[0;32m/usr/local/lib/python3.7/dist-packages/nltk/data.py\u001b[0m in \u001b[0;36mfind\u001b[0;34m(resource_name, paths)\u001b[0m\n\u001b[1;32m    582\u001b[0m     \u001b[0mresource_not_found\u001b[0m \u001b[0;34m=\u001b[0m \u001b[0;34mf\"\\n{sep}\\n{msg}\\n{sep}\\n\"\u001b[0m\u001b[0;34m\u001b[0m\u001b[0;34m\u001b[0m\u001b[0m\n\u001b[0;32m--> 583\u001b[0;31m     \u001b[0;32mraise\u001b[0m \u001b[0mLookupError\u001b[0m\u001b[0;34m(\u001b[0m\u001b[0mresource_not_found\u001b[0m\u001b[0;34m)\u001b[0m\u001b[0;34m\u001b[0m\u001b[0;34m\u001b[0m\u001b[0m\n\u001b[0m\u001b[1;32m    584\u001b[0m \u001b[0;34m\u001b[0m\u001b[0m\n",
            "\u001b[0;31mLookupError\u001b[0m: \n**********************************************************************\n  Resource \u001b[93momw-1.4\u001b[0m not found.\n  Please use the NLTK Downloader to obtain the resource:\n\n  \u001b[31m>>> import nltk\n  >>> nltk.download('omw-1.4')\n  \u001b[0m\n  For more information see: https://www.nltk.org/data.html\n\n  Attempted to load \u001b[93mcorpora/omw-1.4.zip/omw-1.4/\u001b[0m\n\n  Searched in:\n    - '/root/nltk_data'\n    - '/usr/nltk_data'\n    - '/usr/share/nltk_data'\n    - '/usr/lib/nltk_data'\n    - '/usr/share/nltk_data'\n    - '/usr/local/share/nltk_data'\n    - '/usr/lib/nltk_data'\n    - '/usr/local/lib/nltk_data'\n**********************************************************************\n",
            "\nDuring handling of the above exception, another exception occurred:\n",
            "\u001b[0;31mLookupError\u001b[0m                               Traceback (most recent call last)",
            "\u001b[0;32m<ipython-input-30-6f70c866c739>\u001b[0m in \u001b[0;36m<module>\u001b[0;34m()\u001b[0m\n\u001b[1;32m      3\u001b[0m \u001b[0mlemma\u001b[0m \u001b[0;34m=\u001b[0m \u001b[0mWordNetLemmatizer\u001b[0m\u001b[0;34m(\u001b[0m\u001b[0;34m)\u001b[0m\u001b[0;34m\u001b[0m\u001b[0;34m\u001b[0m\u001b[0m\n\u001b[1;32m      4\u001b[0m \u001b[0mword\u001b[0m \u001b[0;34m=\u001b[0m \u001b[0;34m\"happiness\"\u001b[0m \u001b[0;31m#@param {type:\"string\"}\u001b[0m\u001b[0;34m\u001b[0m\u001b[0;34m\u001b[0m\u001b[0m\n\u001b[0;32m----> 5\u001b[0;31m \u001b[0mprint\u001b[0m\u001b[0;34m(\u001b[0m\u001b[0mlemma\u001b[0m\u001b[0;34m.\u001b[0m\u001b[0mlemmatize\u001b[0m\u001b[0;34m(\u001b[0m\u001b[0mword\u001b[0m\u001b[0;34m)\u001b[0m\u001b[0;34m)\u001b[0m\u001b[0;34m\u001b[0m\u001b[0;34m\u001b[0m\u001b[0m\n\u001b[0m",
            "\u001b[0;32m/usr/local/lib/python3.7/dist-packages/nltk/stem/wordnet.py\u001b[0m in \u001b[0;36mlemmatize\u001b[0;34m(self, word, pos)\u001b[0m\n\u001b[1;32m     43\u001b[0m         \u001b[0;34m:\u001b[0m\u001b[0;32mreturn\u001b[0m\u001b[0;34m:\u001b[0m \u001b[0mThe\u001b[0m \u001b[0mlemma\u001b[0m \u001b[0mof\u001b[0m\u001b[0;31m \u001b[0m\u001b[0;31m`\u001b[0m\u001b[0mword\u001b[0m\u001b[0;31m`\u001b[0m\u001b[0;34m,\u001b[0m \u001b[0;32mfor\u001b[0m \u001b[0mthe\u001b[0m \u001b[0mgiven\u001b[0m\u001b[0;31m \u001b[0m\u001b[0;31m`\u001b[0m\u001b[0mpos\u001b[0m\u001b[0;31m`\u001b[0m\u001b[0;34m.\u001b[0m\u001b[0;34m\u001b[0m\u001b[0;34m\u001b[0m\u001b[0m\n\u001b[1;32m     44\u001b[0m         \"\"\"\n\u001b[0;32m---> 45\u001b[0;31m         \u001b[0mlemmas\u001b[0m \u001b[0;34m=\u001b[0m \u001b[0mwn\u001b[0m\u001b[0;34m.\u001b[0m\u001b[0m_morphy\u001b[0m\u001b[0;34m(\u001b[0m\u001b[0mword\u001b[0m\u001b[0;34m,\u001b[0m \u001b[0mpos\u001b[0m\u001b[0;34m)\u001b[0m\u001b[0;34m\u001b[0m\u001b[0;34m\u001b[0m\u001b[0m\n\u001b[0m\u001b[1;32m     46\u001b[0m         \u001b[0;32mreturn\u001b[0m \u001b[0mmin\u001b[0m\u001b[0;34m(\u001b[0m\u001b[0mlemmas\u001b[0m\u001b[0;34m,\u001b[0m \u001b[0mkey\u001b[0m\u001b[0;34m=\u001b[0m\u001b[0mlen\u001b[0m\u001b[0;34m)\u001b[0m \u001b[0;32mif\u001b[0m \u001b[0mlemmas\u001b[0m \u001b[0;32melse\u001b[0m \u001b[0mword\u001b[0m\u001b[0;34m\u001b[0m\u001b[0;34m\u001b[0m\u001b[0m\n\u001b[1;32m     47\u001b[0m \u001b[0;34m\u001b[0m\u001b[0m\n",
            "\u001b[0;32m/usr/local/lib/python3.7/dist-packages/nltk/corpus/util.py\u001b[0m in \u001b[0;36m__getattr__\u001b[0;34m(self, attr)\u001b[0m\n\u001b[1;32m    119\u001b[0m             \u001b[0;32mraise\u001b[0m \u001b[0mAttributeError\u001b[0m\u001b[0;34m(\u001b[0m\u001b[0;34m\"LazyCorpusLoader object has no attribute '__bases__'\"\u001b[0m\u001b[0;34m)\u001b[0m\u001b[0;34m\u001b[0m\u001b[0;34m\u001b[0m\u001b[0m\n\u001b[1;32m    120\u001b[0m \u001b[0;34m\u001b[0m\u001b[0m\n\u001b[0;32m--> 121\u001b[0;31m         \u001b[0mself\u001b[0m\u001b[0;34m.\u001b[0m\u001b[0m__load\u001b[0m\u001b[0;34m(\u001b[0m\u001b[0;34m)\u001b[0m\u001b[0;34m\u001b[0m\u001b[0;34m\u001b[0m\u001b[0m\n\u001b[0m\u001b[1;32m    122\u001b[0m         \u001b[0;31m# This looks circular, but its not, since __load() changes our\u001b[0m\u001b[0;34m\u001b[0m\u001b[0;34m\u001b[0m\u001b[0;34m\u001b[0m\u001b[0m\n\u001b[1;32m    123\u001b[0m         \u001b[0;31m# __class__ to something new:\u001b[0m\u001b[0;34m\u001b[0m\u001b[0;34m\u001b[0m\u001b[0;34m\u001b[0m\u001b[0m\n",
            "\u001b[0;32m/usr/local/lib/python3.7/dist-packages/nltk/corpus/util.py\u001b[0m in \u001b[0;36m__load\u001b[0;34m(self)\u001b[0m\n\u001b[1;32m     87\u001b[0m \u001b[0;34m\u001b[0m\u001b[0m\n\u001b[1;32m     88\u001b[0m         \u001b[0;31m# Load the corpus.\u001b[0m\u001b[0;34m\u001b[0m\u001b[0;34m\u001b[0m\u001b[0;34m\u001b[0m\u001b[0m\n\u001b[0;32m---> 89\u001b[0;31m         \u001b[0mcorpus\u001b[0m \u001b[0;34m=\u001b[0m \u001b[0mself\u001b[0m\u001b[0;34m.\u001b[0m\u001b[0m__reader_cls\u001b[0m\u001b[0;34m(\u001b[0m\u001b[0mroot\u001b[0m\u001b[0;34m,\u001b[0m \u001b[0;34m*\u001b[0m\u001b[0mself\u001b[0m\u001b[0;34m.\u001b[0m\u001b[0m__args\u001b[0m\u001b[0;34m,\u001b[0m \u001b[0;34m**\u001b[0m\u001b[0mself\u001b[0m\u001b[0;34m.\u001b[0m\u001b[0m__kwargs\u001b[0m\u001b[0;34m)\u001b[0m\u001b[0;34m\u001b[0m\u001b[0;34m\u001b[0m\u001b[0m\n\u001b[0m\u001b[1;32m     90\u001b[0m \u001b[0;34m\u001b[0m\u001b[0m\n\u001b[1;32m     91\u001b[0m         \u001b[0;31m# This is where the magic happens!  Transform ourselves into\u001b[0m\u001b[0;34m\u001b[0m\u001b[0;34m\u001b[0m\u001b[0;34m\u001b[0m\u001b[0m\n",
            "\u001b[0;32m/usr/local/lib/python3.7/dist-packages/nltk/corpus/reader/wordnet.py\u001b[0m in \u001b[0;36m__init__\u001b[0;34m(self, root, omw_reader)\u001b[0m\n\u001b[1;32m   1174\u001b[0m             )\n\u001b[1;32m   1175\u001b[0m         \u001b[0;32melse\u001b[0m\u001b[0;34m:\u001b[0m\u001b[0;34m\u001b[0m\u001b[0;34m\u001b[0m\u001b[0m\n\u001b[0;32m-> 1176\u001b[0;31m             \u001b[0mself\u001b[0m\u001b[0;34m.\u001b[0m\u001b[0mprovenances\u001b[0m \u001b[0;34m=\u001b[0m \u001b[0mself\u001b[0m\u001b[0;34m.\u001b[0m\u001b[0momw_prov\u001b[0m\u001b[0;34m(\u001b[0m\u001b[0;34m)\u001b[0m\u001b[0;34m\u001b[0m\u001b[0;34m\u001b[0m\u001b[0m\n\u001b[0m\u001b[1;32m   1177\u001b[0m \u001b[0;34m\u001b[0m\u001b[0m\n\u001b[1;32m   1178\u001b[0m         \u001b[0;31m# A cache to store the wordnet data of multiple languages\u001b[0m\u001b[0;34m\u001b[0m\u001b[0;34m\u001b[0m\u001b[0;34m\u001b[0m\u001b[0m\n",
            "\u001b[0;32m/usr/local/lib/python3.7/dist-packages/nltk/corpus/reader/wordnet.py\u001b[0m in \u001b[0;36momw_prov\u001b[0;34m(self)\u001b[0m\n\u001b[1;32m   1283\u001b[0m         \u001b[0mprovdict\u001b[0m \u001b[0;34m=\u001b[0m \u001b[0;34m{\u001b[0m\u001b[0;34m}\u001b[0m\u001b[0;34m\u001b[0m\u001b[0;34m\u001b[0m\u001b[0m\n\u001b[1;32m   1284\u001b[0m         \u001b[0mprovdict\u001b[0m\u001b[0;34m[\u001b[0m\u001b[0;34m\"eng\"\u001b[0m\u001b[0;34m]\u001b[0m \u001b[0;34m=\u001b[0m \u001b[0;34m\"\"\u001b[0m\u001b[0;34m\u001b[0m\u001b[0;34m\u001b[0m\u001b[0m\n\u001b[0;32m-> 1285\u001b[0;31m         \u001b[0mfileids\u001b[0m \u001b[0;34m=\u001b[0m \u001b[0mself\u001b[0m\u001b[0;34m.\u001b[0m\u001b[0m_omw_reader\u001b[0m\u001b[0;34m.\u001b[0m\u001b[0mfileids\u001b[0m\u001b[0;34m(\u001b[0m\u001b[0;34m)\u001b[0m\u001b[0;34m\u001b[0m\u001b[0;34m\u001b[0m\u001b[0m\n\u001b[0m\u001b[1;32m   1286\u001b[0m         \u001b[0;32mfor\u001b[0m \u001b[0mfileid\u001b[0m \u001b[0;32min\u001b[0m \u001b[0mfileids\u001b[0m\u001b[0;34m:\u001b[0m\u001b[0;34m\u001b[0m\u001b[0;34m\u001b[0m\u001b[0m\n\u001b[1;32m   1287\u001b[0m             \u001b[0mprov\u001b[0m\u001b[0;34m,\u001b[0m \u001b[0mlangfile\u001b[0m \u001b[0;34m=\u001b[0m \u001b[0mos\u001b[0m\u001b[0;34m.\u001b[0m\u001b[0mpath\u001b[0m\u001b[0;34m.\u001b[0m\u001b[0msplit\u001b[0m\u001b[0;34m(\u001b[0m\u001b[0mfileid\u001b[0m\u001b[0;34m)\u001b[0m\u001b[0;34m\u001b[0m\u001b[0;34m\u001b[0m\u001b[0m\n",
            "\u001b[0;32m/usr/local/lib/python3.7/dist-packages/nltk/corpus/util.py\u001b[0m in \u001b[0;36m__getattr__\u001b[0;34m(self, attr)\u001b[0m\n\u001b[1;32m    119\u001b[0m             \u001b[0;32mraise\u001b[0m \u001b[0mAttributeError\u001b[0m\u001b[0;34m(\u001b[0m\u001b[0;34m\"LazyCorpusLoader object has no attribute '__bases__'\"\u001b[0m\u001b[0;34m)\u001b[0m\u001b[0;34m\u001b[0m\u001b[0;34m\u001b[0m\u001b[0m\n\u001b[1;32m    120\u001b[0m \u001b[0;34m\u001b[0m\u001b[0m\n\u001b[0;32m--> 121\u001b[0;31m         \u001b[0mself\u001b[0m\u001b[0;34m.\u001b[0m\u001b[0m__load\u001b[0m\u001b[0;34m(\u001b[0m\u001b[0;34m)\u001b[0m\u001b[0;34m\u001b[0m\u001b[0;34m\u001b[0m\u001b[0m\n\u001b[0m\u001b[1;32m    122\u001b[0m         \u001b[0;31m# This looks circular, but its not, since __load() changes our\u001b[0m\u001b[0;34m\u001b[0m\u001b[0;34m\u001b[0m\u001b[0;34m\u001b[0m\u001b[0m\n\u001b[1;32m    123\u001b[0m         \u001b[0;31m# __class__ to something new:\u001b[0m\u001b[0;34m\u001b[0m\u001b[0;34m\u001b[0m\u001b[0;34m\u001b[0m\u001b[0m\n",
            "\u001b[0;32m/usr/local/lib/python3.7/dist-packages/nltk/corpus/util.py\u001b[0m in \u001b[0;36m__load\u001b[0;34m(self)\u001b[0m\n\u001b[1;32m     84\u001b[0m                     \u001b[0mroot\u001b[0m \u001b[0;34m=\u001b[0m \u001b[0mnltk\u001b[0m\u001b[0;34m.\u001b[0m\u001b[0mdata\u001b[0m\u001b[0;34m.\u001b[0m\u001b[0mfind\u001b[0m\u001b[0;34m(\u001b[0m\u001b[0;34mf\"{self.subdir}/{zip_name}\"\u001b[0m\u001b[0;34m)\u001b[0m\u001b[0;34m\u001b[0m\u001b[0;34m\u001b[0m\u001b[0m\n\u001b[1;32m     85\u001b[0m                 \u001b[0;32mexcept\u001b[0m \u001b[0mLookupError\u001b[0m\u001b[0;34m:\u001b[0m\u001b[0;34m\u001b[0m\u001b[0;34m\u001b[0m\u001b[0m\n\u001b[0;32m---> 86\u001b[0;31m                     \u001b[0;32mraise\u001b[0m \u001b[0me\u001b[0m\u001b[0;34m\u001b[0m\u001b[0;34m\u001b[0m\u001b[0m\n\u001b[0m\u001b[1;32m     87\u001b[0m \u001b[0;34m\u001b[0m\u001b[0m\n\u001b[1;32m     88\u001b[0m         \u001b[0;31m# Load the corpus.\u001b[0m\u001b[0;34m\u001b[0m\u001b[0;34m\u001b[0m\u001b[0;34m\u001b[0m\u001b[0m\n",
            "\u001b[0;32m/usr/local/lib/python3.7/dist-packages/nltk/corpus/util.py\u001b[0m in \u001b[0;36m__load\u001b[0;34m(self)\u001b[0m\n\u001b[1;32m     79\u001b[0m         \u001b[0;32melse\u001b[0m\u001b[0;34m:\u001b[0m\u001b[0;34m\u001b[0m\u001b[0;34m\u001b[0m\u001b[0m\n\u001b[1;32m     80\u001b[0m             \u001b[0;32mtry\u001b[0m\u001b[0;34m:\u001b[0m\u001b[0;34m\u001b[0m\u001b[0;34m\u001b[0m\u001b[0m\n\u001b[0;32m---> 81\u001b[0;31m                 \u001b[0mroot\u001b[0m \u001b[0;34m=\u001b[0m \u001b[0mnltk\u001b[0m\u001b[0;34m.\u001b[0m\u001b[0mdata\u001b[0m\u001b[0;34m.\u001b[0m\u001b[0mfind\u001b[0m\u001b[0;34m(\u001b[0m\u001b[0;34mf\"{self.subdir}/{self.__name}\"\u001b[0m\u001b[0;34m)\u001b[0m\u001b[0;34m\u001b[0m\u001b[0;34m\u001b[0m\u001b[0m\n\u001b[0m\u001b[1;32m     82\u001b[0m             \u001b[0;32mexcept\u001b[0m \u001b[0mLookupError\u001b[0m \u001b[0;32mas\u001b[0m \u001b[0me\u001b[0m\u001b[0;34m:\u001b[0m\u001b[0;34m\u001b[0m\u001b[0;34m\u001b[0m\u001b[0m\n\u001b[1;32m     83\u001b[0m                 \u001b[0;32mtry\u001b[0m\u001b[0;34m:\u001b[0m\u001b[0;34m\u001b[0m\u001b[0;34m\u001b[0m\u001b[0m\n",
            "\u001b[0;32m/usr/local/lib/python3.7/dist-packages/nltk/data.py\u001b[0m in \u001b[0;36mfind\u001b[0;34m(resource_name, paths)\u001b[0m\n\u001b[1;32m    581\u001b[0m     \u001b[0msep\u001b[0m \u001b[0;34m=\u001b[0m \u001b[0;34m\"*\"\u001b[0m \u001b[0;34m*\u001b[0m \u001b[0;36m70\u001b[0m\u001b[0;34m\u001b[0m\u001b[0;34m\u001b[0m\u001b[0m\n\u001b[1;32m    582\u001b[0m     \u001b[0mresource_not_found\u001b[0m \u001b[0;34m=\u001b[0m \u001b[0;34mf\"\\n{sep}\\n{msg}\\n{sep}\\n\"\u001b[0m\u001b[0;34m\u001b[0m\u001b[0;34m\u001b[0m\u001b[0m\n\u001b[0;32m--> 583\u001b[0;31m     \u001b[0;32mraise\u001b[0m \u001b[0mLookupError\u001b[0m\u001b[0;34m(\u001b[0m\u001b[0mresource_not_found\u001b[0m\u001b[0;34m)\u001b[0m\u001b[0;34m\u001b[0m\u001b[0;34m\u001b[0m\u001b[0m\n\u001b[0m\u001b[1;32m    584\u001b[0m \u001b[0;34m\u001b[0m\u001b[0m\n\u001b[1;32m    585\u001b[0m \u001b[0;34m\u001b[0m\u001b[0m\n",
            "\u001b[0;31mLookupError\u001b[0m: \n**********************************************************************\n  Resource \u001b[93momw-1.4\u001b[0m not found.\n  Please use the NLTK Downloader to obtain the resource:\n\n  \u001b[31m>>> import nltk\n  >>> nltk.download('omw-1.4')\n  \u001b[0m\n  For more information see: https://www.nltk.org/data.html\n\n  Attempted to load \u001b[93mcorpora/omw-1.4\u001b[0m\n\n  Searched in:\n    - '/root/nltk_data'\n    - '/usr/nltk_data'\n    - '/usr/share/nltk_data'\n    - '/usr/lib/nltk_data'\n    - '/usr/share/nltk_data'\n    - '/usr/local/share/nltk_data'\n    - '/usr/lib/nltk_data'\n    - '/usr/local/lib/nltk_data'\n**********************************************************************\n"
          ]
        }
      ]
    },
    {
      "cell_type": "markdown",
      "metadata": {
        "id": "3fRexsQWZJCO"
      },
      "source": [
        "###**Discussion Exercise**:"
      ]
    },
    {
      "cell_type": "markdown",
      "metadata": {
        "id": "5lfFIoeOJ-mS"
      },
      "source": [
        "**Discuss:**\n",
        "* What are the differences between the Porter stemmer and the lemmatizer?\n",
        "* How do you think the lemmatizer works?"
      ]
    },
    {
      "cell_type": "markdown",
      "metadata": {
        "id": "GRcZX84-x06q"
      },
      "source": [
        "## Stop Words"
      ]
    },
    {
      "cell_type": "markdown",
      "metadata": {
        "id": "5IMUAPkRbasd"
      },
      "source": [
        "###**Discussion Exercise**:"
      ]
    },
    {
      "cell_type": "code",
      "source": [
        "#@title Are there words that can be removed without affecting the model?\n",
        "\n",
        "#@markdown Hint: Which words can we remove without changing the meaning of a sentence?\n",
        "words = \"The cat ran across the wall\" #@param {type:\"string\"}"
      ],
      "metadata": {
        "id": "aPwRMEkvl-ZA"
      },
      "execution_count": null,
      "outputs": []
    },
    {
      "cell_type": "markdown",
      "metadata": {
        "id": "4yF6R42-zoUp"
      },
      "source": [
        "Stop words are words that occur in both categories, that are not relevant to the context, such as 'at', 'is', 'the' and so on... It is usually advantageous for the classifier to ignore these stop words, since they may add noises or cause numerical issues as they add baggage to the model"
      ]
    },
    {
      "cell_type": "code",
      "metadata": {
        "id": "RIsSdBJ14Zn_",
        "colab": {
          "base_uri": "https://localhost:8080/"
        },
        "outputId": "54036b0e-e998-4908-d351-2fad16fc8ef5"
      },
      "source": [
        "#@title Run this cell for some example stop words! { vertical-output: true, display-mode: \"form\" }\n",
        "#@markdown *Your groupmates will likely have different examples.*\n",
        "eng_stopwords = stopwords.words('english')\n",
        "for i, word in enumerate(sample(eng_stopwords, 10)):\n",
        "    print(word)"
      ],
      "execution_count": null,
      "outputs": [
        {
          "output_type": "stream",
          "name": "stdout",
          "text": [
            "of\n",
            "by\n",
            "don\n",
            "just\n",
            "wouldn\n",
            "were\n",
            "when\n",
            "yourself\n",
            "but\n",
            "it\n"
          ]
        }
      ]
    },
    {
      "cell_type": "markdown",
      "metadata": {
        "id": "mBPkmmzF4mWU"
      },
      "source": [
        "Let us see if the words you identified are stop words or not. Input them down below to see!"
      ]
    },
    {
      "cell_type": "code",
      "metadata": {
        "id": "Gw75nnP14t-k",
        "colab": {
          "base_uri": "https://localhost:8080/"
        },
        "outputId": "52ebff1b-cc03-45a5-a465-1ab4224356e0"
      },
      "source": [
        "#@title Check stop words { run: \"auto\", vertical-output: true, display-mode: \"form\" }\n",
        "word = \"the\" #@param {type:\"string\"}\n",
        "if not word: raise Exception('Please enter a word')\n",
        "eng_stopwords = set(stopwords.words('english'))\n",
        "if word.lower().strip() in eng_stopwords: print('YES')\n",
        "else: print('NO')\n",
        "\n"
      ],
      "execution_count": null,
      "outputs": [
        {
          "output_type": "stream",
          "name": "stdout",
          "text": [
            "YES\n"
          ]
        }
      ]
    },
    {
      "cell_type": "markdown",
      "metadata": {
        "id": "5fK0FSbhRA2r"
      },
      "source": [
        "## Preprocessing pipeline of our data\n",
        "\n",
        "Explore how combining these methods changes the structure of our tweet dataset. Change out the `None` values to complete our `remove_stopwords()` function!"
      ]
    },
    {
      "cell_type": "code",
      "metadata": {
        "id": "ULJG6XbIpxsZ"
      },
      "source": [
        "stopword_set = set(stopwords.words('english'))\n",
        "\n",
        "# Complete the following function to remove the stopwords from the tokenized tweets\n",
        "def remove_stopwords(token_list):\n",
        "  filtered_sentences = []\n",
        "  ### YOUR CODE HERE\n",
        "  for tweet in token_list:\n",
        "    new_tweet = []\n",
        "    for word in tweet:\n",
        "      if word not in stopword_set:\n",
        "        new_tweet.append(word)\n",
        "    filtered_sentences.append(new_tweet)\n",
        "  ### END CODE\n",
        "  return filtered_sentences"
      ],
      "execution_count": null,
      "outputs": []
    },
    {
      "cell_type": "code",
      "source": [],
      "metadata": {
        "id": "QxuM-7taJ22v"
      },
      "execution_count": null,
      "outputs": []
    },
    {
      "cell_type": "markdown",
      "source": [
        "Remember the cell we ran at the top of this notebook to import our data? Inside, we imported the helper function `word_tokenize` from `nltk`. Below, we use `word_tokenize` to tokenize every tweet in our `tweets` data.\n",
        "\n",
        "**Exercise:** Use the `remove_stopwords()` function we defined above to remove the stopwords in our `tokenized_tweets` data and print the first five!"
      ],
      "metadata": {
        "id": "lG6ZXScigzu1"
      }
    },
    {
      "cell_type": "code",
      "metadata": {
        "id": "Ho4sPpFJRFy2",
        "colab": {
          "base_uri": "https://localhost:8080/"
        },
        "outputId": "166f93cb-f749-4763-a39e-d6a83d320efd"
      },
      "source": [
        "# Tokenize all the tweets\n",
        "tokenized_tweets = [word_tokenize(t) for t in tweets]\n",
        "\n",
        "### YOUR CODE HERE\n",
        "clean_tweets = remove_stopwords(tokenized_tweets)\n",
        "\n",
        "# Print the first five tweets\n",
        "print(clean_tweets[1:5])\n",
        "### END CODE"
      ],
      "execution_count": null,
      "outputs": [
        {
          "output_type": "stream",
          "name": "stdout",
          "text": [
            "[['want', 'hurricane', 'sandy', 'cone', 'stuck', 'house', 'family'], ['hi', 'help', 'prepare', 'food', 'serve', 'food', 'offer', 'clean', 'assistance', 'necessarily', 'tools', 'hands', 'willingness', 'help', 'bicycle', 'could', 'maybe', 'help', 'deliveries', 'within', 'walking', 'distance', 'red', 'hook'], ['cant', 'believe', 'sandy'], ['children', 'adult', 'clothes', 'including', 'jacket', 'blanket', 'shoes', 'bottle', 'water']]\n"
          ]
        }
      ]
    },
    {
      "cell_type": "markdown",
      "metadata": {
        "id": "MYmIUGamOuaN"
      },
      "source": [
        "\n",
        "# Bag of Words Model"
      ]
    },
    {
      "cell_type": "markdown",
      "metadata": {
        "id": "v_fBuMp_UsO8"
      },
      "source": [
        "## One-Hot Encoding\n",
        "**One-Hot Encoding**, also known as one-of-K scheme is a way to encode the data to be used in other functions (such as linear regression).\n",
        "\n",
        "Let us consider an example to understand one-hot encoding:\n",
        "\n",
        "Before we apply a model on our tweets, we need to convert it to a form the model, i.e. a machine, can understand - essentially convert a tweet to numerical form. We cannot just pass words to the model, because it won't know what those mean and might try and extract information from them. Hence, a numerical format is the best.\n",
        "\n",
        "The easiest way to do so is to map each word in a tweet to a number, a categorical value. This will represent all words in a tweet uniquely!\n",
        "\n",
        "---\n",
        "Suppose we have a tweet:\n",
        "> Tweet: 'I am hungry need food' <br>\n",
        "> Category: Food\n",
        "\n",
        "Its numerical representation would be:"
      ]
    },
    {
      "cell_type": "code",
      "metadata": {
        "id": "kqSH4SwDUrol",
        "colab": {
          "base_uri": "https://localhost:8080/"
        },
        "outputId": "5dea7d99-0f9e-4a37-bec7-f90ea4eb2138"
      },
      "source": [
        "#@title Run this cell to see the numeric representation! { vertical-output: true, display-mode: \"form\" }\n",
        "d = {'I': 1, 'am': 2, 'hungry': 3, 'need': 4, 'food': 5}\n",
        "print('{:<12}|{:>2}'.format('word', 'value'))\n",
        "print('-------------------')\n",
        "for k,v in d.items(): print('{:<12}|{:>3}'.format(k,v))"
      ],
      "execution_count": null,
      "outputs": [
        {
          "output_type": "stream",
          "name": "stdout",
          "text": [
            "word        |value\n",
            "-------------------\n",
            "I           |  1\n",
            "am          |  2\n",
            "hungry      |  3\n",
            "need        |  4\n",
            "food        |  5\n"
          ]
        }
      ]
    },
    {
      "cell_type": "markdown",
      "metadata": {
        "id": "8b-n3laDc1ZS"
      },
      "source": [
        "**Discussion Exercise**: Why do you think the above representation is wrong? What information could a model possibly extract from the above information such that its conclusions would be wrong/way off to what we want to achieve?\n"
      ]
    },
    {
      "cell_type": "markdown",
      "metadata": {
        "id": "ba6M5gJ9dScQ"
      },
      "source": [
        "We need to encode the words and include them as a feature to train the model. That is where One-Hot Encoding comes into play. Understanding how it is done will make the process clearer.\n",
        "\n",
        "Let us consider the same example and see what its one-hot encoding would be:"
      ]
    },
    {
      "cell_type": "code",
      "metadata": {
        "id": "xzqRYQVfKYwZ",
        "colab": {
          "base_uri": "https://localhost:8080/"
        },
        "outputId": "b2b98252-09a9-4c8d-cadb-7619b010dc48"
      },
      "source": [
        "#@title Run this cell to see the One-Hot Encoding! { vertical-output: true, display-mode: \"form\" }\n",
        "print('{:^10}|{:^7}|{:^8}|{:^2}|{:^9}'.format('I', 'am', 'hungry','need','food'))\n",
        "print('---------------------------------------------------')\n",
        "print('{:^10}|{:^7}|{:^8}|{:^4}|{:^9}'.format('1', '0', '0','0','0'))\n",
        "print('{:^10}|{:^7}|{:^8}|{:^4}|{:^9}'.format('0', '1', '0','0','0'))\n",
        "print('{:^10}|{:^7}|{:^8}|{:^4}|{:^9}'.format('0', '0', '1','0','0'))\n",
        "print('{:^10}|{:^7}|{:^8}|{:^4}|{:^9}'.format('0', '0', '0','1','0'))\n",
        "print('{:^10}|{:^7}|{:^8}|{:^4}|{:^9}'.format('0', '0', '0','0','1'))\n"
      ],
      "execution_count": null,
      "outputs": [
        {
          "output_type": "stream",
          "name": "stdout",
          "text": [
            "    I     |  am   | hungry |need|  food   \n",
            "---------------------------------------------------\n",
            "    1     |   0   |   0    | 0  |    0    \n",
            "    0     |   1   |   0    | 0  |    0    \n",
            "    0     |   0   |   1    | 0  |    0    \n",
            "    0     |   0   |   0    | 1  |    0    \n",
            "    0     |   0   |   0    | 0  |    1    \n"
          ]
        }
      ]
    },
    {
      "cell_type": "markdown",
      "metadata": {
        "id": "G4ihznS8vA3p"
      },
      "source": [
        "Above, each letter is represented using a row of 1's and 0's, a row which can essentially represent the whole of the vocabulary. This is called one-hot encoding."
      ]
    },
    {
      "cell_type": "code",
      "source": [
        "#@title (Optional): What are the encodings for the inputs below?\n",
        "i = \"[1, 0, 0, 0, 0]\" #@param [\"Choose an answer\", \"[1, 0, 0, 0, 0]\", \"[1, 1, 0, 0, 1]\", \"[1, 0, 0, 1, 1]\", \"[1, 0, 1, 0, 0]\", \"[0, 1, 0, 1, 1]\"]\n",
        "i_hungry = \"[1, 0, 1, 0, 0]\" #@param [\"Choose an answer\", \"[1, 0, 0, 0, 0]\", \"[1, 1, 0, 0, 1]\", \"[1, 0, 0, 1, 1]\", \"[1, 0, 1, 0, 0]\", \"[0, 1, 0, 1, 1]\"]\n",
        "i_need_food = \"[1, 0, 0, 1, 1]\" #@param [\"Choose an answer\", \"[1, 0, 0, 0, 0]\", \"[1, 1, 0, 0, 1]\", \"[1, 0, 0, 1, 1]\", \"[1, 0, 1, 0, 0]\", \"[0, 1, 0, 1, 1]\"]\n",
        "\n",
        "answers = [i, i_hungry, i_need_food]\n",
        "words = [\"i\", \"i_hungry\", \"i_need_food\"]\n",
        "encodings = [\"[1, 0, 0, 0, 0]\",\n",
        "           \"[1, 0, 1, 0, 0]\",\n",
        "           \"[1, 0, 0, 1, 1]\"]\n",
        "\n",
        "for i, actual in enumerate(encodings):\n",
        "  if actual == answers[i]:\n",
        "    print(\"Yes, that's the encoding for '{}'!\".format(words[i]))\n",
        "  else:\n",
        "    print(\"No, that's not the encoding for '{}'.\".format(words[i]))\n"
      ],
      "metadata": {
        "cellView": "form",
        "id": "8OBn9xhCU4lF",
        "colab": {
          "base_uri": "https://localhost:8080/"
        },
        "outputId": "22d2be1b-cb99-4568-cb39-855cf344ca50"
      },
      "execution_count": null,
      "outputs": [
        {
          "output_type": "stream",
          "name": "stdout",
          "text": [
            "Yes, that's the encoding for 'i'!\n",
            "Yes, that's the encoding for 'i_hungry'!\n",
            "Yes, that's the encoding for 'i_need_food'!\n"
          ]
        }
      ]
    },
    {
      "cell_type": "markdown",
      "source": [
        "## **Terms to Know:**\n",
        "\n",
        "Before we code our One-Hot Encoding function, let's get to know some new data structures we'll be seeing."
      ],
      "metadata": {
        "id": "sYf3ejtQ92Jz"
      }
    },
    {
      "cell_type": "markdown",
      "source": [
        "### Sets"
      ],
      "metadata": {
        "id": "bSLe66OS94XV"
      }
    },
    {
      "cell_type": "markdown",
      "source": [
        "A set is an unordered collection of unique elements.\n",
        "\n",
        "You can create sets like this:\n",
        "```\n",
        "integer_set = {5, 6, 7, 8}\n",
        "string_set = {\"hello\", \"world\"}\n",
        "```\n",
        "You can also turn a list into a set using `set()`."
      ],
      "metadata": {
        "id": "eBXd1h1g96FZ"
      }
    },
    {
      "cell_type": "code",
      "source": [
        "my_list = [1, 1, 2, 3, 4]\n",
        "list_to_set = set(my_list)\n",
        "\n",
        "print(list_to_set)"
      ],
      "metadata": {
        "id": "SUaxoTAU98Nq",
        "colab": {
          "base_uri": "https://localhost:8080/"
        },
        "outputId": "961df631-b611-45fb-a22d-df29c4e6d767"
      },
      "execution_count": null,
      "outputs": [
        {
          "output_type": "stream",
          "name": "stdout",
          "text": [
            "{1, 2, 3, 4}\n"
          ]
        }
      ]
    },
    {
      "cell_type": "markdown",
      "source": [
        "Notice that `my_list` had two 1's, and `list_to_set` only has one. Sets do not contain duplicate elements."
      ],
      "metadata": {
        "id": "YqC5Ll34Aav8"
      }
    },
    {
      "cell_type": "markdown",
      "source": [
        "### Dictionaries"
      ],
      "metadata": {
        "id": "dbcR9eCx9-lP"
      }
    },
    {
      "cell_type": "markdown",
      "source": [
        "A dictionary is an unordered data structure containing key-value pairs, where each key maps to its value.\n",
        "\n",
        "You can create dictionaries like this:\n",
        "```\n",
        "grocery_dict = {1: \"bread\", 2: \"bananas\", 3: \"milk\"}\n",
        "pet_dict = {\"cats\": 5, \"dogs\": 3, \"rabbits\": 2}\n",
        "```\n",
        "Let's use `pet_dict` as an example. The key `cats` points to the value `5`. Run the cell below to see how we can access a value from a dictionary.\n",
        "\n",
        "Try to access other values!"
      ],
      "metadata": {
        "id": "oUgOdS0B-B0_"
      }
    },
    {
      "cell_type": "code",
      "source": [
        "pet_dict = {\"cats\": 5, \"dogs\": 3, \"rabbits\": 2}\n",
        "\n",
        "num_cats = pet_dict[\"dogs\"] # Change this!\n",
        "print(num_cats)"
      ],
      "metadata": {
        "id": "b5ttg15T-H3i",
        "colab": {
          "base_uri": "https://localhost:8080/"
        },
        "outputId": "477feff3-d338-4b82-9a7e-cd7dfd9af587"
      },
      "execution_count": null,
      "outputs": [
        {
          "output_type": "stream",
          "name": "stdout",
          "text": [
            "3\n"
          ]
        }
      ]
    },
    {
      "cell_type": "markdown",
      "source": [
        "We can also change the value in a key-value pair:"
      ],
      "metadata": {
        "id": "kBe388r1-Ld9"
      }
    },
    {
      "cell_type": "code",
      "source": [
        "pet_dict[\"dogs\"] = 7 # Change this!\n",
        "\n",
        "print(pet_dict)"
      ],
      "metadata": {
        "id": "i2BLUhgC-OeT",
        "colab": {
          "base_uri": "https://localhost:8080/"
        },
        "outputId": "17f342aa-4f38-48f6-ce2d-2bd8742329c0"
      },
      "execution_count": null,
      "outputs": [
        {
          "output_type": "stream",
          "name": "stdout",
          "text": [
            "{'cats': 5, 'dogs': 7, 'rabbits': 2}\n"
          ]
        }
      ]
    },
    {
      "cell_type": "markdown",
      "source": [
        "Here's how we might check if a key is in a dictionary and add it if not:"
      ],
      "metadata": {
        "id": "YDZwtd6L-bnG"
      }
    },
    {
      "cell_type": "code",
      "source": [
        "pet = \"cats\" # Change this!\n",
        "\n",
        "if pet in pet_dict:\n",
        "  print(\"Yes, our pet_dict contains one or more\", pet)\n",
        "else:\n",
        "  pet_dict[pet] = 1 # Change this!\n",
        "\n",
        "print(pet_dict)"
      ],
      "metadata": {
        "id": "wpqfnrL7-dln",
        "colab": {
          "base_uri": "https://localhost:8080/"
        },
        "outputId": "d550b22f-a5a1-4ae7-bd3e-dba866ca98e1"
      },
      "execution_count": null,
      "outputs": [
        {
          "output_type": "stream",
          "name": "stdout",
          "text": [
            "Yes, our pet_dict contains one or more cats\n",
            "{'cats': 5, 'dogs': 7, 'rabbits': 2, 'lizard': 1, 'cat': 1}\n"
          ]
        }
      ]
    },
    {
      "cell_type": "markdown",
      "source": [
        "Feel free to revisit the above section when needed. Sets and dictionaries are useful data structures!"
      ],
      "metadata": {
        "id": "38ATl2Wn-hPO"
      }
    },
    {
      "cell_type": "markdown",
      "metadata": {
        "id": "jqy3nTWDVYrt"
      },
      "source": [
        "### One-Hot Encoding Function"
      ]
    },
    {
      "cell_type": "markdown",
      "source": [
        "**Exercise:** Complete the `one_hot_encoding` function below!\n",
        "\n",
        "**Note:** You'll use the function `enumerate(list)`. We can use `enumerate()` to keep track of elements of a list passed in, and their respective indices `idx`. Read more about `enumerate()` [here](https://https://realpython.com/python-enumerate/)!"
      ],
      "metadata": {
        "id": "5p6YCzS_zyIl"
      }
    },
    {
      "cell_type": "code",
      "metadata": {
        "id": "NoMBPD60VYMd",
        "cellView": "both"
      },
      "source": [
        "def one_hot_encoding(sentences, sentence, print_word_dict = False):\n",
        "  \"\"\"\n",
        "  param: sentences - list of sentences to form the one-hot encoding\n",
        "  param: sentence - sentence to return the one-hot encoding of\n",
        "  return: sent_encoding - the encoded sentence\n",
        "  \"\"\"\n",
        "\n",
        "  words_list = [] # an empty list\n",
        "\n",
        "  ### YOUR CODE HERE: Change the None values!\n",
        "\n",
        "  # Step 1: Tokenize each sentence using word_tokenize() and add it to the list\n",
        "  for sent in sentences:\n",
        "    words_list.extend(sent)\n",
        "\n",
        "  # Step 2: Remove the duplicates in your words_list\n",
        "  words_set = set(words_list) # Hint: See Sets above!\n",
        "  words_list = list(words_set)\n",
        "  # Step 3: Make an empty dictionary\n",
        "  words_map_dict = {}\n",
        "\n",
        "  # Step 4:\n",
        "  # Add every word in your words_list as a key to your dictionary\n",
        "  # Pair each word with its index as the value\n",
        "  for idx, w in enumerate(words_list):\n",
        "    words_map_dict[w] = idx\n",
        "\n",
        "  # a numpy array of all zeros of the same length as words_list\n",
        "  sent_encoding = np.zeros(len(words_list)) # Our future one-hot encoding!\n",
        "\n",
        "  # Step 5:\n",
        "  # Loop through the words in the given sentence (sentence to check)\n",
        "  # Find the index of each word using our dictionary\n",
        "  # Increment the value of the numpy array at that index by one\n",
        "  for word in word_tokenize(sentence):\n",
        "    if word in sentence:\n",
        "      print(word)\n",
        "      newWord = words_map_dict[word]\n",
        "      sent_encoding[newWord] += 1\n",
        "\n",
        "  ### END CODE\n",
        "\n",
        "  if print_word_dict:\n",
        "    print (\"Word Dictionary: \", words_map_dict)\n",
        "\n",
        "  return sent_encoding"
      ],
      "execution_count": null,
      "outputs": []
    },
    {
      "cell_type": "code",
      "metadata": {
        "id": "n3rJZr_hqsUX"
      },
      "source": [
        "encoding = one_hot_encoding([\"oh I love AI\", \"AI is so much fun\", \"is AI fun or what\"], \"oh what fun AI is \", True)\n",
        "print(\"Encoding: \", encoding)"
      ],
      "execution_count": null,
      "outputs": []
    },
    {
      "cell_type": "markdown",
      "metadata": {
        "id": "pGIjELh0wDD1"
      },
      "source": [
        "## Count Vectorizer - The Bag of Words Model"
      ]
    },
    {
      "cell_type": "markdown",
      "metadata": {
        "id": "-uZDNaLHdxbl"
      },
      "source": [
        "### Introduction"
      ]
    },
    {
      "cell_type": "markdown",
      "metadata": {
        "id": "Wi7A3SuRwGdP"
      },
      "source": [
        "Now that we have the one-hot encoding for all tweets, it's time to attach value to each word, such that it can be distinguished and used by the model.\n",
        "\n",
        "One idea is to assign each word the same weight, say a weight of one. However, that is non distinguishable and the model won't be able to learn anything with that information. Can you think of a simple way to add weights to words which, say, occur more frequently?\n",
        "\n",
        "That is the Bag of Words Model. The **Bag of Words Model** converts the tweets into a matrix of token counts. Let us consider an example."
      ]
    },
    {
      "cell_type": "markdown",
      "metadata": {
        "id": "ebbwyut2jxgl"
      },
      "source": [
        "Recall the first 3 tweets:"
      ]
    },
    {
      "cell_type": "code",
      "metadata": {
        "id": "bznJPPrHeAA5",
        "colab": {
          "base_uri": "https://localhost:8080/"
        },
        "outputId": "892617f0-dc90-4cd3-ee54-fed5ab6aa358"
      },
      "source": [
        "for t in tweets[:3]:\n",
        "  print(t)"
      ],
      "execution_count": null,
      "outputs": [
        {
          "output_type": "stream",
          "name": "stdout",
          "text": [
            "donations of batteries flashlights and cleaning supplies are always welcome at our donation drop off at 23 74 38th st btwn 23rd ave astoria blvd thanks \n",
            "i want hurricane sandy to cone so i can be stuck in my house with my family not \n",
            "hi i can help prepare food serve food offer clean up assistance but don t necessarily have any tools just my hands and willingness to help i only have a bicycle and could maybe help with deliveries i m within walking distance of red hook \n"
          ]
        }
      ]
    },
    {
      "cell_type": "markdown",
      "metadata": {
        "id": "I_nJ-Kqtkvv6"
      },
      "source": [
        "The Vocabulary for the tweets would be:"
      ]
    },
    {
      "cell_type": "code",
      "metadata": {
        "id": "Ax8Y4gQCsibD",
        "colab": {
          "base_uri": "https://localhost:8080/"
        },
        "outputId": "3b022e1a-0a93-42bd-9f22-c4e4371fc97a"
      },
      "source": [
        "#@title Vocabulary { vertical-output: true, display-mode: \"form\" }\n",
        "word_count = Counter()\n",
        "for tweet in tweets[:3]:\n",
        "  for t in word_tokenize(tweet):\n",
        "    word_count[t]+=1\n",
        "word_count_list = [(k,v) for k,v in word_count.items()]\n",
        "word_count_list.sort(key=lambda x:x[0])\n",
        "print('{:<12}|{:>2}'.format('word', 'position'))\n",
        "print('-------------------')\n",
        "for k,v in enumerate(word_count_list): print('{:<12}|{:>3}'.format(v[0],k))"
      ],
      "execution_count": null,
      "outputs": [
        {
          "output_type": "stream",
          "name": "stdout",
          "text": [
            "word        |position\n",
            "-------------------\n",
            "23          |  0\n",
            "23rd        |  1\n",
            "38th        |  2\n",
            "74          |  3\n",
            "a           |  4\n",
            "always      |  5\n",
            "and         |  6\n",
            "any         |  7\n",
            "are         |  8\n",
            "assistance  |  9\n",
            "astoria     | 10\n",
            "at          | 11\n",
            "ave         | 12\n",
            "batteries   | 13\n",
            "be          | 14\n",
            "bicycle     | 15\n",
            "blvd        | 16\n",
            "btwn        | 17\n",
            "but         | 18\n",
            "can         | 19\n",
            "clean       | 20\n",
            "cleaning    | 21\n",
            "cone        | 22\n",
            "could       | 23\n",
            "deliveries  | 24\n",
            "distance    | 25\n",
            "don         | 26\n",
            "donation    | 27\n",
            "donations   | 28\n",
            "drop        | 29\n",
            "family      | 30\n",
            "flashlights | 31\n",
            "food        | 32\n",
            "hands       | 33\n",
            "have        | 34\n",
            "help        | 35\n",
            "hi          | 36\n",
            "hook        | 37\n",
            "house       | 38\n",
            "hurricane   | 39\n",
            "i           | 40\n",
            "in          | 41\n",
            "just        | 42\n",
            "m           | 43\n",
            "maybe       | 44\n",
            "my          | 45\n",
            "necessarily | 46\n",
            "not         | 47\n",
            "of          | 48\n",
            "off         | 49\n",
            "offer       | 50\n",
            "only        | 51\n",
            "our         | 52\n",
            "prepare     | 53\n",
            "red         | 54\n",
            "sandy       | 55\n",
            "serve       | 56\n",
            "so          | 57\n",
            "st          | 58\n",
            "stuck       | 59\n",
            "supplies    | 60\n",
            "t           | 61\n",
            "thanks      | 62\n",
            "to          | 63\n",
            "tools       | 64\n",
            "up          | 65\n",
            "walking     | 66\n",
            "want        | 67\n",
            "welcome     | 68\n",
            "willingness | 69\n",
            "with        | 70\n",
            "within      | 71\n"
          ]
        }
      ]
    },
    {
      "cell_type": "markdown",
      "metadata": {
        "id": "IkY5OPdZ1XXR"
      },
      "source": [
        "If there are N words in the vocabulary, each row in the matrix would be of N words.\n",
        "\n",
        "Based on this, one-hot encoding for each tweet and the matrix that will be given to the model would be the following.\n"
      ]
    },
    {
      "cell_type": "code",
      "metadata": {
        "id": "JHKB2Kt3egP6",
        "colab": {
          "base_uri": "https://localhost:8080/",
          "height": 339
        },
        "outputId": "7693217b-dc1b-43da-eda9-6afece560d01"
      },
      "source": [
        "print(\"Tweet 1: \", one_hot_encoding([str(t) for t in tweets[:3]], str(tweets[0])))\n",
        "print(\"Tweet 2: \", one_hot_encoding([str(t) for t in tweets[:3]], str(tweets[1])))\n",
        "print(\"Tweet 3: \", one_hot_encoding([str(t) for t in tweets[:3]], str(tweets[2])))"
      ],
      "execution_count": null,
      "outputs": [
        {
          "output_type": "stream",
          "name": "stdout",
          "text": [
            "donations\n"
          ]
        },
        {
          "output_type": "error",
          "ename": "KeyError",
          "evalue": "ignored",
          "traceback": [
            "\u001b[0;31m---------------------------------------------------------------------------\u001b[0m",
            "\u001b[0;31mKeyError\u001b[0m                                  Traceback (most recent call last)",
            "\u001b[0;32m<ipython-input-73-c86e5da34718>\u001b[0m in \u001b[0;36m<module>\u001b[0;34m()\u001b[0m\n\u001b[0;32m----> 1\u001b[0;31m \u001b[0mprint\u001b[0m\u001b[0;34m(\u001b[0m\u001b[0;34m\"Tweet 1: \"\u001b[0m\u001b[0;34m,\u001b[0m \u001b[0mone_hot_encoding\u001b[0m\u001b[0;34m(\u001b[0m\u001b[0;34m[\u001b[0m\u001b[0mstr\u001b[0m\u001b[0;34m(\u001b[0m\u001b[0mt\u001b[0m\u001b[0;34m)\u001b[0m \u001b[0;32mfor\u001b[0m \u001b[0mt\u001b[0m \u001b[0;32min\u001b[0m \u001b[0mtweets\u001b[0m\u001b[0;34m[\u001b[0m\u001b[0;34m:\u001b[0m\u001b[0;36m3\u001b[0m\u001b[0;34m]\u001b[0m\u001b[0;34m]\u001b[0m\u001b[0;34m,\u001b[0m \u001b[0mstr\u001b[0m\u001b[0;34m(\u001b[0m\u001b[0mtweets\u001b[0m\u001b[0;34m[\u001b[0m\u001b[0;36m0\u001b[0m\u001b[0;34m]\u001b[0m\u001b[0;34m)\u001b[0m\u001b[0;34m)\u001b[0m\u001b[0;34m)\u001b[0m\u001b[0;34m\u001b[0m\u001b[0;34m\u001b[0m\u001b[0m\n\u001b[0m\u001b[1;32m      2\u001b[0m \u001b[0mprint\u001b[0m\u001b[0;34m(\u001b[0m\u001b[0;34m\"Tweet 2: \"\u001b[0m\u001b[0;34m,\u001b[0m \u001b[0mone_hot_encoding\u001b[0m\u001b[0;34m(\u001b[0m\u001b[0;34m[\u001b[0m\u001b[0mstr\u001b[0m\u001b[0;34m(\u001b[0m\u001b[0mt\u001b[0m\u001b[0;34m)\u001b[0m \u001b[0;32mfor\u001b[0m \u001b[0mt\u001b[0m \u001b[0;32min\u001b[0m \u001b[0mtweets\u001b[0m\u001b[0;34m[\u001b[0m\u001b[0;34m:\u001b[0m\u001b[0;36m3\u001b[0m\u001b[0;34m]\u001b[0m\u001b[0;34m]\u001b[0m\u001b[0;34m,\u001b[0m \u001b[0mstr\u001b[0m\u001b[0;34m(\u001b[0m\u001b[0mtweets\u001b[0m\u001b[0;34m[\u001b[0m\u001b[0;36m1\u001b[0m\u001b[0;34m]\u001b[0m\u001b[0;34m)\u001b[0m\u001b[0;34m)\u001b[0m\u001b[0;34m)\u001b[0m\u001b[0;34m\u001b[0m\u001b[0;34m\u001b[0m\u001b[0m\n\u001b[1;32m      3\u001b[0m \u001b[0mprint\u001b[0m\u001b[0;34m(\u001b[0m\u001b[0;34m\"Tweet 3: \"\u001b[0m\u001b[0;34m,\u001b[0m \u001b[0mone_hot_encoding\u001b[0m\u001b[0;34m(\u001b[0m\u001b[0;34m[\u001b[0m\u001b[0mstr\u001b[0m\u001b[0;34m(\u001b[0m\u001b[0mt\u001b[0m\u001b[0;34m)\u001b[0m \u001b[0;32mfor\u001b[0m \u001b[0mt\u001b[0m \u001b[0;32min\u001b[0m \u001b[0mtweets\u001b[0m\u001b[0;34m[\u001b[0m\u001b[0;34m:\u001b[0m\u001b[0;36m3\u001b[0m\u001b[0;34m]\u001b[0m\u001b[0;34m]\u001b[0m\u001b[0;34m,\u001b[0m \u001b[0mstr\u001b[0m\u001b[0;34m(\u001b[0m\u001b[0mtweets\u001b[0m\u001b[0;34m[\u001b[0m\u001b[0;36m2\u001b[0m\u001b[0;34m]\u001b[0m\u001b[0;34m)\u001b[0m\u001b[0;34m)\u001b[0m\u001b[0;34m)\u001b[0m\u001b[0;34m\u001b[0m\u001b[0;34m\u001b[0m\u001b[0m\n",
            "\u001b[0;32m<ipython-input-68-050d219d0209>\u001b[0m in \u001b[0;36mone_hot_encoding\u001b[0;34m(sentences, sentence, print_word_dict)\u001b[0m\n\u001b[1;32m     36\u001b[0m     \u001b[0;32mif\u001b[0m \u001b[0mword\u001b[0m \u001b[0;32min\u001b[0m \u001b[0msentence\u001b[0m\u001b[0;34m:\u001b[0m\u001b[0;34m\u001b[0m\u001b[0;34m\u001b[0m\u001b[0m\n\u001b[1;32m     37\u001b[0m       \u001b[0mprint\u001b[0m\u001b[0;34m(\u001b[0m\u001b[0mword\u001b[0m\u001b[0;34m)\u001b[0m\u001b[0;34m\u001b[0m\u001b[0;34m\u001b[0m\u001b[0m\n\u001b[0;32m---> 38\u001b[0;31m       \u001b[0mnewWord\u001b[0m \u001b[0;34m=\u001b[0m \u001b[0mwords_map_dict\u001b[0m\u001b[0;34m[\u001b[0m\u001b[0mword\u001b[0m\u001b[0;34m]\u001b[0m\u001b[0;34m\u001b[0m\u001b[0;34m\u001b[0m\u001b[0m\n\u001b[0m\u001b[1;32m     39\u001b[0m       \u001b[0msent_encoding\u001b[0m\u001b[0;34m[\u001b[0m\u001b[0mnewWord\u001b[0m\u001b[0;34m]\u001b[0m \u001b[0;34m+=\u001b[0m \u001b[0;36m1\u001b[0m\u001b[0;34m\u001b[0m\u001b[0;34m\u001b[0m\u001b[0m\n\u001b[1;32m     40\u001b[0m \u001b[0;34m\u001b[0m\u001b[0m\n",
            "\u001b[0;31mKeyError\u001b[0m: 'donations'"
          ]
        }
      ]
    },
    {
      "cell_type": "code",
      "metadata": {
        "id": "OwwUjET5z_NY",
        "colab": {
          "base_uri": "https://localhost:8080/"
        },
        "outputId": "15c47c6a-bee9-485b-8b30-898dcf36bfc0"
      },
      "source": [
        "#@title Token Counts { vertical-output: true }\n",
        "print('{:<12}|{:>2}'.format('word', 'word_count'))\n",
        "print('-------------------')\n",
        "for k,v in word_count_list: print('{:<12}|{:>3}'.format(k,v))"
      ],
      "execution_count": null,
      "outputs": [
        {
          "output_type": "stream",
          "name": "stdout",
          "text": [
            "word        |word_count\n",
            "-------------------\n",
            "23          |  1\n",
            "23rd        |  1\n",
            "38th        |  1\n",
            "74          |  1\n",
            "a           |  1\n",
            "always      |  1\n",
            "and         |  3\n",
            "any         |  1\n",
            "are         |  1\n",
            "assistance  |  1\n",
            "astoria     |  1\n",
            "at          |  2\n",
            "ave         |  1\n",
            "batteries   |  1\n",
            "be          |  1\n",
            "bicycle     |  1\n",
            "blvd        |  1\n",
            "btwn        |  1\n",
            "but         |  1\n",
            "can         |  2\n",
            "clean       |  1\n",
            "cleaning    |  1\n",
            "cone        |  1\n",
            "could       |  1\n",
            "deliveries  |  1\n",
            "distance    |  1\n",
            "don         |  1\n",
            "donation    |  1\n",
            "donations   |  1\n",
            "drop        |  1\n",
            "family      |  1\n",
            "flashlights |  1\n",
            "food        |  2\n",
            "hands       |  1\n",
            "have        |  2\n",
            "help        |  3\n",
            "hi          |  1\n",
            "hook        |  1\n",
            "house       |  1\n",
            "hurricane   |  1\n",
            "i           |  5\n",
            "in          |  1\n",
            "just        |  1\n",
            "m           |  1\n",
            "maybe       |  1\n",
            "my          |  3\n",
            "necessarily |  1\n",
            "not         |  1\n",
            "of          |  2\n",
            "off         |  1\n",
            "offer       |  1\n",
            "only        |  1\n",
            "our         |  1\n",
            "prepare     |  1\n",
            "red         |  1\n",
            "sandy       |  1\n",
            "serve       |  1\n",
            "so          |  1\n",
            "st          |  1\n",
            "stuck       |  1\n",
            "supplies    |  1\n",
            "t           |  1\n",
            "thanks      |  1\n",
            "to          |  2\n",
            "tools       |  1\n",
            "up          |  1\n",
            "walking     |  1\n",
            "want        |  1\n",
            "welcome     |  1\n",
            "willingness |  1\n",
            "with        |  2\n",
            "within      |  1\n"
          ]
        }
      ]
    },
    {
      "cell_type": "markdown",
      "metadata": {
        "id": "leEZ2wKv4Iie"
      },
      "source": [
        "The above is the Bag of Words model. Sklearn's `Countvectorizer` does the same thing, however, in a much more sophisticated manner."
      ]
    },
    {
      "cell_type": "code",
      "metadata": {
        "id": "V-TMn3LZ4g5N",
        "colab": {
          "base_uri": "https://localhost:8080/",
          "height": 245
        },
        "outputId": "dfd668fd-ef99-449e-d3b8-e3905950f77b"
      },
      "source": [
        "train_text = [t for t in tweets[:3]]\n",
        "print(train_text)\n",
        "vectorizer = CountVectorizer()\n",
        "vectorizer.fit(train_text)\n",
        "print('Number of Words in Vocabulary of train tweets are: {}'.format(len(vectorizer.vocabulary_)))"
      ],
      "execution_count": null,
      "outputs": [
        {
          "output_type": "error",
          "ename": "NameError",
          "evalue": "name 'tweets' is not defined",
          "traceback": [
            "\u001b[0;31m---------------------------------------------------------------------------\u001b[0m",
            "\u001b[0;31mNameError\u001b[0m                                 Traceback (most recent call last)",
            "\u001b[0;32m<ipython-input-4-a7e1387c4d66>\u001b[0m in \u001b[0;36m<cell line: 1>\u001b[0;34m()\u001b[0m\n\u001b[0;32m----> 1\u001b[0;31m \u001b[0mtrain_text\u001b[0m \u001b[0;34m=\u001b[0m \u001b[0;34m[\u001b[0m\u001b[0mt\u001b[0m \u001b[0;32mfor\u001b[0m \u001b[0mt\u001b[0m \u001b[0;32min\u001b[0m \u001b[0mtweets\u001b[0m\u001b[0;34m[\u001b[0m\u001b[0;34m:\u001b[0m\u001b[0;36m3\u001b[0m\u001b[0;34m]\u001b[0m\u001b[0;34m]\u001b[0m\u001b[0;34m\u001b[0m\u001b[0;34m\u001b[0m\u001b[0m\n\u001b[0m\u001b[1;32m      2\u001b[0m \u001b[0mprint\u001b[0m\u001b[0;34m(\u001b[0m\u001b[0mtrain_text\u001b[0m\u001b[0;34m)\u001b[0m\u001b[0;34m\u001b[0m\u001b[0;34m\u001b[0m\u001b[0m\n\u001b[1;32m      3\u001b[0m \u001b[0mvectorizer\u001b[0m \u001b[0;34m=\u001b[0m \u001b[0mCountVectorizer\u001b[0m\u001b[0;34m(\u001b[0m\u001b[0;34m)\u001b[0m\u001b[0;34m\u001b[0m\u001b[0;34m\u001b[0m\u001b[0m\n\u001b[1;32m      4\u001b[0m \u001b[0mvectorizer\u001b[0m\u001b[0;34m.\u001b[0m\u001b[0mfit\u001b[0m\u001b[0;34m(\u001b[0m\u001b[0mtrain_text\u001b[0m\u001b[0;34m)\u001b[0m\u001b[0;34m\u001b[0m\u001b[0;34m\u001b[0m\u001b[0m\n\u001b[1;32m      5\u001b[0m \u001b[0mprint\u001b[0m\u001b[0;34m(\u001b[0m\u001b[0;34m'Number of Words in Vocabulary of train tweets are: {}'\u001b[0m\u001b[0;34m.\u001b[0m\u001b[0mformat\u001b[0m\u001b[0;34m(\u001b[0m\u001b[0mlen\u001b[0m\u001b[0;34m(\u001b[0m\u001b[0mvectorizer\u001b[0m\u001b[0;34m.\u001b[0m\u001b[0mvocabulary_\u001b[0m\u001b[0;34m)\u001b[0m\u001b[0;34m)\u001b[0m\u001b[0;34m)\u001b[0m\u001b[0;34m\u001b[0m\u001b[0;34m\u001b[0m\u001b[0m\n",
            "\u001b[0;31mNameError\u001b[0m: name 'tweets' is not defined"
          ]
        }
      ]
    },
    {
      "cell_type": "markdown",
      "metadata": {
        "id": "g0J4tRe1UrL3"
      },
      "source": [
        "And the vocabulary is *almost* the same as ours above.\n",
        "\n",
        "**Discussion Exercise**: What is different about vocabulary results from the `CountVectorizer` than our method above?   Why do you think that is? Which is better?"
      ]
    },
    {
      "cell_type": "code",
      "metadata": {
        "id": "bzb-T1z6UnZI",
        "colab": {
          "base_uri": "https://localhost:8080/"
        },
        "outputId": "cd3f9b08-f90d-43ac-e5cd-70ab71cd4fb0"
      },
      "source": [
        "vectorizer.vocabulary_"
      ],
      "execution_count": null,
      "outputs": [
        {
          "output_type": "execute_result",
          "data": {
            "text/plain": [
              "{'23': 0,\n",
              " '23rd': 1,\n",
              " '38th': 2,\n",
              " '74': 3,\n",
              " 'always': 4,\n",
              " 'and': 5,\n",
              " 'any': 6,\n",
              " 'are': 7,\n",
              " 'assistance': 8,\n",
              " 'astoria': 9,\n",
              " 'at': 10,\n",
              " 'ave': 11,\n",
              " 'batteries': 12,\n",
              " 'be': 13,\n",
              " 'bicycle': 14,\n",
              " 'blvd': 15,\n",
              " 'btwn': 16,\n",
              " 'but': 17,\n",
              " 'can': 18,\n",
              " 'clean': 19,\n",
              " 'cleaning': 20,\n",
              " 'cone': 21,\n",
              " 'could': 22,\n",
              " 'deliveries': 23,\n",
              " 'distance': 24,\n",
              " 'don': 25,\n",
              " 'donation': 26,\n",
              " 'donations': 27,\n",
              " 'drop': 28,\n",
              " 'family': 29,\n",
              " 'flashlights': 30,\n",
              " 'food': 31,\n",
              " 'hands': 32,\n",
              " 'have': 33,\n",
              " 'help': 34,\n",
              " 'hi': 35,\n",
              " 'hook': 36,\n",
              " 'house': 37,\n",
              " 'hurricane': 38,\n",
              " 'in': 39,\n",
              " 'just': 40,\n",
              " 'maybe': 41,\n",
              " 'my': 42,\n",
              " 'necessarily': 43,\n",
              " 'not': 44,\n",
              " 'of': 45,\n",
              " 'off': 46,\n",
              " 'offer': 47,\n",
              " 'only': 48,\n",
              " 'our': 49,\n",
              " 'prepare': 50,\n",
              " 'red': 51,\n",
              " 'sandy': 52,\n",
              " 'serve': 53,\n",
              " 'so': 54,\n",
              " 'st': 55,\n",
              " 'stuck': 56,\n",
              " 'supplies': 57,\n",
              " 'thanks': 58,\n",
              " 'to': 59,\n",
              " 'tools': 60,\n",
              " 'up': 61,\n",
              " 'walking': 62,\n",
              " 'want': 63,\n",
              " 'welcome': 64,\n",
              " 'willingness': 65,\n",
              " 'with': 66,\n",
              " 'within': 67}"
            ]
          },
          "metadata": {},
          "execution_count": 76
        }
      ]
    },
    {
      "cell_type": "markdown",
      "metadata": {
        "id": "Lg5gkx3jI9CG"
      },
      "source": [
        "### CountVectorizer - Fit and Transform"
      ]
    },
    {
      "cell_type": "markdown",
      "metadata": {
        "id": "9HcyuzbvJCN6"
      },
      "source": [
        "The `.fit()` method fits the given data to the vectorizer - consider it as if it is learning from the data. It produces a matrix, which will then be passed on to the logistic regression (later, so don't worry about understanding that). Think of the `.fit()` method this way: it just allows you to generate the matrix (but doesn't let us see it) used by the model to learn information about the training data.\n",
        "\n",
        "The `.transform()` method transforms the given data to the matrix- there is no learning here. It does not generate a vocabulary, nor does it allow for many other functionalities that the `.fit()` method allows for. Hence, it cannot be used as a substitute for the `.fit()` method as it just spews out the matrix representation of the data!<br>"
      ]
    },
    {
      "cell_type": "markdown",
      "metadata": {
        "id": "Lawl8vijIMIs"
      },
      "source": [
        "### Coding Exercise"
      ]
    },
    {
      "cell_type": "markdown",
      "metadata": {
        "id": "aRlc2lohePfX"
      },
      "source": [
        "Let us make the `CountVectorizer` and use the `.fit()` and `.transform()` methods to learn their workings. Fill out the code below and try it on tweets of your choice!"
      ]
    },
    {
      "cell_type": "code",
      "metadata": {
        "id": "895LTm1pKjpF",
        "colab": {
          "base_uri": "https://localhost:8080/"
        },
        "outputId": "13deb969-3938-4bfa-bb3a-3f3f2e1e5fc7"
      },
      "source": [
        "tweet_01 = 'This is a big tweet '\n",
        "tweet_02 = 'Sample Tweet two'\n",
        "# You can add more tweets here\n",
        "train_text = [tweet_01, tweet_02]\n",
        "print(train_text)\n",
        "\n",
        "tweet_03 = 'Sample tweet' # Transform this once the vectorizer is ready\n",
        "\n",
        "### Your code starts here ###\n",
        "\n",
        "# Initialize the vectorizer\n",
        "vectorizer = CountVectorizer()\n",
        "# Fit the train_text data to the vectorizer\n",
        "vectorizer.fit(train_text)\n",
        "# Print the vocabulary of the vectorizer\n",
        "print(vectorizer.vocabulary_)\n",
        "# Transform this tweet_03's tokenList\n",
        "print(vectorizer.transform([tweet_03]))\n",
        "\n",
        "### Your code ends here ###\n",
        "\n"
      ],
      "execution_count": null,
      "outputs": [
        {
          "output_type": "stream",
          "name": "stdout",
          "text": [
            "['This is a big tweet ', 'Sample Tweet two']\n",
            "{'this': 3, 'is': 1, 'big': 0, 'tweet': 4, 'sample': 2, 'two': 5}\n",
            "  (0, 2)\t1\n",
            "  (0, 4)\t1\n"
          ]
        }
      ]
    },
    {
      "cell_type": "markdown",
      "metadata": {
        "id": "ahjK7AgNZUx6"
      },
      "source": [
        "# Logistic Regression"
      ]
    },
    {
      "cell_type": "markdown",
      "metadata": {
        "id": "BS_FxE83RBuU"
      },
      "source": [
        "## Logistic Regression Refresher"
      ]
    },
    {
      "cell_type": "markdown",
      "metadata": {
        "id": "AAd_hJNd0Ul5"
      },
      "source": [
        "We've just spent the last week or so learning about more sophisticated neural network architectures.  Remember that logistic regression is just linear regression followed by a sigmoid function."
      ]
    },
    {
      "cell_type": "markdown",
      "metadata": {
        "id": "5zmV-2E-VCdL"
      },
      "source": [
        "**Review:** What is Logistic Regression?\n",
        "\n",
        "Logistic regression is a type of linear regression that is generally used for classification. Unlike linear regression which outputs continuous number values, logistic regression uses the logistic function, also called the sigmoid function, to transform the output to return a probability value between 1 and 0, which can then be mapped to the different categories. The logistic (sigmoid) function looks something like this:\n",
        "\n",
        "![Logistic Function](https://ml-cheatsheet.readthedocs.io/en/latest/_images/sigmoid.png)\n",
        "\n",
        "Consider an example to understand logistic regression and to enhance the difference between logistic and linear regression:\n",
        "\n",
        "Given data on time spent studying and exam scores:\n",
        "\n",
        ">**Linear Regression** could help us predict the student’s test score on a scale of 0 - 100. Linear regression predictions are continuous (numbers in a range).\n",
        "\n",
        ">**Logistic Regression** could help us predict whether the student passed or failed. Logistic regression predictions are discrete (only specific values or categories are allowed). We can also view probability scores underlying the model’s classifications."
      ]
    },
    {
      "cell_type": "markdown",
      "metadata": {
        "id": "TlicWtTrRHPC"
      },
      "source": [
        " **Why Logistic Regression?**"
      ]
    },
    {
      "cell_type": "markdown",
      "metadata": {
        "id": "Ue2m3durVBE2"
      },
      "source": [
        "**A couple of reasons for using Logistic Regression:**\n",
        "1.   Using a simpler model tells us how much room we have to improve.\n",
        "2.   A simple model makes iteration quick and easy.\n",
        "3.   Lastly, and perhaps most importantly, logistic regression is interpretable. You may have heard in the past that one thing deep neural networks struggle with is interpretability–when you are using these models to make predictions that affect people's wellbeing (e.g., sentencing decisions, predictive policing decisions), it becomes extremely important that you are able to understand why a model is making the predictions it makes.For simpler models like logistic regression, we get interpretability for free!"
      ]
    },
    {
      "cell_type": "markdown",
      "metadata": {
        "id": "mwJUL4QDQ-KB"
      },
      "source": [
        "## Logistic Regression in Python"
      ]
    },
    {
      "cell_type": "markdown",
      "metadata": {
        "id": "NluqLKKQ8SNv"
      },
      "source": [
        "Logistic regression in python can be done easily with the help of sklearn's `LogisticRegression()` function. Let us first do it for the three tweet examples that we saw above."
      ]
    },
    {
      "cell_type": "code",
      "metadata": {
        "id": "I0xxnn1i8KoK"
      },
      "source": [
        "tweet1 = 'please help we desperately need food'\n",
        "label1 = \"Food\"\n",
        "tweet2 = 'We are very thirsty please send water'\n",
        "label2 = 'Water'\n",
        "tweet3 = 'we need water and are very thirsty'\n",
        "label3 = 'Water'\n",
        "\n",
        "train_tweets = [tweet1, tweet2]\n",
        "train_tweets_label = [label1, label2]\n",
        "test_tweets = [tweet3]\n",
        "test_tweets_label = [label3]"
      ],
      "execution_count": null,
      "outputs": []
    },
    {
      "cell_type": "markdown",
      "metadata": {
        "id": "xVEdW2d8RO2i"
      },
      "source": [
        "Next, let us make the vectorizer and encode tweets:"
      ]
    },
    {
      "cell_type": "code",
      "metadata": {
        "id": "_aHfIV639W-o",
        "colab": {
          "base_uri": "https://localhost:8080/"
        },
        "outputId": "57c7d73b-a76a-4a52-d220-90fcf0dd70d1"
      },
      "source": [
        "vectorizer = CountVectorizer()\n",
        "train_vect = vectorizer.fit_transform(train_tweets) # fit_transform fits the train tweets and returns the sparse matrix of the tweets\n",
        "model = LogisticRegression()\n",
        "model.fit(train_vect, train_tweets_label) # Fit the data values to the model"
      ],
      "execution_count": null,
      "outputs": [
        {
          "output_type": "execute_result",
          "data": {
            "text/plain": [
              "LogisticRegression()"
            ]
          },
          "metadata": {},
          "execution_count": 80
        }
      ]
    },
    {
      "cell_type": "markdown",
      "metadata": {
        "id": "bAzZHe6F-iOI"
      },
      "source": [
        "Over here, `model.fit(train_vect, train_tweets_label)` applies logistic regression to the data given by the  matrix and hence, fits the data to the function. It takes two arguments: the matrix that is the `train_vect` variable and the `train_tweets_label`, which is the category each tweet belongs to.\n",
        "\n",
        "Below, we transform the `test_tweets` into a vector form. Now predict the third tweet using this model.\n",
        "\n",
        "*Hint: What function have we used in the ML-pipeline to test, or **predict** test data?*"
      ]
    },
    {
      "cell_type": "code",
      "metadata": {
        "id": "O8hxXm66--ox",
        "colab": {
          "base_uri": "https://localhost:8080/"
        },
        "outputId": "572a4d8a-f027-4405-9246-6df53cd35d32"
      },
      "source": [
        "test_vect = vectorizer.transform(test_tweets)\n",
        "### YOUR CODE HERE: Have your model predict on the third tweet!\n",
        "result = model.predict(test_vect)\n",
        "print('Actual Category: {}\\nPredicted Category: {}'.format(label3, result[0]))"
      ],
      "execution_count": null,
      "outputs": [
        {
          "output_type": "stream",
          "name": "stdout",
          "text": [
            "Actual Category: Water\n",
            "Predicted Category: Water\n"
          ]
        }
      ]
    },
    {
      "cell_type": "markdown",
      "metadata": {
        "id": "__6MSOHNUy_2"
      },
      "source": [
        "Yay! It predicted it correctly! However, that might not always be the case, as the training set here is so small."
      ]
    },
    {
      "cell_type": "markdown",
      "metadata": {
        "id": "_9eYK4QDT9Pg"
      },
      "source": [
        "**Exercise**: Can you trick the logistic regression? Try and make a tweet get classified as \"Water\" when it is about \"Food\".  *Hint: What are some words that were in the Food tweet in the training set that had no significance to food?*"
      ]
    },
    {
      "cell_type": "code",
      "metadata": {
        "id": "KJnVDK-oUAQV",
        "colab": {
          "base_uri": "https://localhost:8080/"
        },
        "outputId": "3ea0ec18-7b37-4086-fd40-d131e4315b9d"
      },
      "source": [
        "#@title Trick the logistic regression { run: \"auto\", vertical-output: true, display-mode: \"form\" }\n",
        "test_tweet = \"Apple juice is the best\" #@param {type:\"string\"}\n",
        "true_label = \"Food\" #@param [\"Food\", \"Water\"]\n",
        "\n",
        "test_vect = vectorizer.transform([test_tweet])\n",
        "result = model.predict(test_vect)\n",
        "print('Actual Category: {}\\nPredicted Category: {}'.format(true_label, result[0]))\n"
      ],
      "execution_count": null,
      "outputs": [
        {
          "output_type": "stream",
          "name": "stdout",
          "text": [
            "Actual Category: Food\n",
            "Predicted Category: Food\n"
          ]
        }
      ]
    },
    {
      "cell_type": "markdown",
      "metadata": {
        "id": "KDaw9DovKNpK"
      },
      "source": [
        "## Logistic Regression for Tweet Classification (Coding Exercise)"
      ]
    },
    {
      "cell_type": "code",
      "metadata": {
        "id": "6Fs9EU6FSvdF",
        "colab": {
          "base_uri": "https://localhost:8080/",
          "height": 200
        },
        "outputId": "eac5737e-74a7-4258-caa4-50edbeea3c70"
      },
      "source": [
        "#Split the Data into Training and Testing\n",
        "from sklearn.model_selection import train_test_split\n",
        "X_train, X_test, y_train, y_test = train_test_split(tweets, tweet_labels, test_size=0.2, random_state=1)"
      ],
      "execution_count": null,
      "outputs": [
        {
          "output_type": "error",
          "ename": "NameError",
          "evalue": "ignored",
          "traceback": [
            "\u001b[0;31m---------------------------------------------------------------------------\u001b[0m",
            "\u001b[0;31mNameError\u001b[0m                                 Traceback (most recent call last)",
            "\u001b[0;32m<ipython-input-7-3327c9824d11>\u001b[0m in \u001b[0;36m<module>\u001b[0;34m()\u001b[0m\n\u001b[1;32m      1\u001b[0m \u001b[0;31m#Split the Data into Training and Testing\u001b[0m\u001b[0;34m\u001b[0m\u001b[0;34m\u001b[0m\u001b[0;34m\u001b[0m\u001b[0m\n\u001b[1;32m      2\u001b[0m \u001b[0;32mfrom\u001b[0m \u001b[0msklearn\u001b[0m\u001b[0;34m.\u001b[0m\u001b[0mmodel_selection\u001b[0m \u001b[0;32mimport\u001b[0m \u001b[0mtrain_test_split\u001b[0m\u001b[0;34m\u001b[0m\u001b[0;34m\u001b[0m\u001b[0m\n\u001b[0;32m----> 3\u001b[0;31m \u001b[0mX_train\u001b[0m\u001b[0;34m,\u001b[0m \u001b[0mX_test\u001b[0m\u001b[0;34m,\u001b[0m \u001b[0my_train\u001b[0m\u001b[0;34m,\u001b[0m \u001b[0my_test\u001b[0m \u001b[0;34m=\u001b[0m \u001b[0mtrain_test_split\u001b[0m\u001b[0;34m(\u001b[0m\u001b[0mtweets\u001b[0m\u001b[0;34m,\u001b[0m \u001b[0mtweet_labels\u001b[0m\u001b[0;34m,\u001b[0m \u001b[0mtest_size\u001b[0m\u001b[0;34m=\u001b[0m\u001b[0;36m0.2\u001b[0m\u001b[0;34m,\u001b[0m \u001b[0mrandom_state\u001b[0m\u001b[0;34m=\u001b[0m\u001b[0;36m1\u001b[0m\u001b[0;34m)\u001b[0m\u001b[0;34m\u001b[0m\u001b[0;34m\u001b[0m\u001b[0m\n\u001b[0m",
            "\u001b[0;31mNameError\u001b[0m: name 'tweets' is not defined"
          ]
        }
      ]
    },
    {
      "cell_type": "markdown",
      "metadata": {
        "id": "amJz-5wbKP1J"
      },
      "source": [
        "Let us now build our own regression model for all the training data. Complete the code for `train_model` and `predict` below:"
      ]
    },
    {
      "cell_type": "code",
      "metadata": {
        "id": "z65-9oJQ7mpZ"
      },
      "source": [
        "def train_model(tweets_to_train,train_labels):\n",
        "  \"\"\"\n",
        "  param: tweets_to_train - list of tweets to train on\n",
        "  return: the vectorizer, the logistic regression model, the train_vector\n",
        "  \"\"\"\n",
        "\n",
        "  train_tweets = [\" \".join(t) for t in tweets_to_train]\n",
        "  train_tweets_label = [l for l in train_labels]\n",
        "\n",
        "  ### Your code starts here ###\n",
        "\n",
        "  vectorizer = CountVectorizer() # initialize CountVectorizer\n",
        "  train_vect = vectorizer.fit_transform(train_tweets)\n",
        "\n",
        "  model = LogisticRegression() # create LogisticRegression Model\n",
        "  model.fit(train_vect, train_tweets_label) # train on transformed train data and our labels\n",
        "\n",
        "  ### Your code ends here ###\n",
        "\n",
        "  return model, vectorizer"
      ],
      "execution_count": null,
      "outputs": []
    },
    {
      "cell_type": "code",
      "metadata": {
        "id": "Z9s_a32jxXXQ"
      },
      "source": [
        "def predict(tweets_to_test, vectorizer, model):\n",
        "  \"\"\"\n",
        "  param: tweets_to_test - list of tweets to test the model on\n",
        "  param: vectorizer - the CountVectorizer\n",
        "  param: model - the LogisticRegression model\n",
        "  return result (the prediction), the test_vect\n",
        "  \"\"\"\n",
        "\n",
        "  test_tweets = [\" \".join(t) for t in  tweets_to_test]\n",
        "  print(test_tweets)\n",
        "\n",
        "  ### Your code starts here\n",
        "\n",
        "  test_vect = vectorizer.transform(test_tweets) # Use .transform to vectorize our tweets\n",
        "  result = model.predict(test_vect) # Have your model predict on the vectorized tweets\n",
        "\n",
        "  ### Your code ends here\n",
        "\n",
        "  return result"
      ],
      "execution_count": null,
      "outputs": []
    },
    {
      "cell_type": "markdown",
      "source": [
        "Check out our work in action!"
      ],
      "metadata": {
        "id": "WKdXAnew7B4j"
      }
    },
    {
      "cell_type": "code",
      "metadata": {
        "id": "PeSN-6b1STF7",
        "colab": {
          "base_uri": "https://localhost:8080/",
          "height": 235
        },
        "outputId": "71cfa054-71d8-4bd9-cb37-6eba321b7c35"
      },
      "source": [
        "model, train_countvect = train_model(X_train, y_train)\n",
        "\n",
        "#Predict labels for test set\n",
        "y_pred = predict (X_test, train_countvect, model)\n",
        "print(\"Accuracy:\", metrics.accuracy_score(y_test, y_pred))"
      ],
      "execution_count": null,
      "outputs": [
        {
          "output_type": "error",
          "ename": "NameError",
          "evalue": "ignored",
          "traceback": [
            "\u001b[0;31m---------------------------------------------------------------------------\u001b[0m",
            "\u001b[0;31mNameError\u001b[0m                                 Traceback (most recent call last)",
            "\u001b[0;32m<ipython-input-3-db251ae3a4ad>\u001b[0m in \u001b[0;36m<module>\u001b[0;34m()\u001b[0m\n\u001b[0;32m----> 1\u001b[0;31m \u001b[0mmodel\u001b[0m\u001b[0;34m,\u001b[0m \u001b[0mtrain_countvect\u001b[0m \u001b[0;34m=\u001b[0m \u001b[0mtrain_model\u001b[0m\u001b[0;34m(\u001b[0m\u001b[0mX_train\u001b[0m\u001b[0;34m,\u001b[0m \u001b[0my_train\u001b[0m\u001b[0;34m)\u001b[0m\u001b[0;34m\u001b[0m\u001b[0;34m\u001b[0m\u001b[0m\n\u001b[0m\u001b[1;32m      2\u001b[0m \u001b[0;34m\u001b[0m\u001b[0m\n\u001b[1;32m      3\u001b[0m \u001b[0;31m#Predict labels for test set\u001b[0m\u001b[0;34m\u001b[0m\u001b[0;34m\u001b[0m\u001b[0;34m\u001b[0m\u001b[0m\n\u001b[1;32m      4\u001b[0m \u001b[0my_pred\u001b[0m \u001b[0;34m=\u001b[0m \u001b[0mpredict\u001b[0m \u001b[0;34m(\u001b[0m\u001b[0mX_test\u001b[0m\u001b[0;34m,\u001b[0m \u001b[0mtrain_countvect\u001b[0m\u001b[0;34m,\u001b[0m \u001b[0mmodel\u001b[0m\u001b[0;34m)\u001b[0m\u001b[0;34m\u001b[0m\u001b[0;34m\u001b[0m\u001b[0m\n\u001b[1;32m      5\u001b[0m \u001b[0mprint\u001b[0m\u001b[0;34m(\u001b[0m\u001b[0;34m\"Accuracy:\"\u001b[0m\u001b[0;34m,\u001b[0m \u001b[0mmetrics\u001b[0m\u001b[0;34m.\u001b[0m\u001b[0maccuracy_score\u001b[0m\u001b[0;34m(\u001b[0m\u001b[0my_test\u001b[0m\u001b[0;34m,\u001b[0m \u001b[0my_pred\u001b[0m\u001b[0;34m)\u001b[0m\u001b[0;34m)\u001b[0m\u001b[0;34m\u001b[0m\u001b[0;34m\u001b[0m\u001b[0m\n",
            "\u001b[0;31mNameError\u001b[0m: name 'X_train' is not defined"
          ]
        }
      ]
    },
    {
      "cell_type": "markdown",
      "metadata": {
        "id": "JOWekFQkXPjP"
      },
      "source": [
        "# Evaluation\n",
        "Let's see how our classifier did!  We will train our classifier on 80% of the dataset and then test it on 20%. This is called a *train-test split* and is usually done to evaluate models."
      ]
    },
    {
      "cell_type": "code",
      "metadata": {
        "id": "XadKkUt39krv"
      },
      "source": [
        "table=pd.DataFrame([[\" \".join(t) for t in X_test],y_pred, y_test]).transpose()\n",
        "table.columns = ['Tweet', 'Predicted Category', 'True Category']\n",
        "print(\"Percent Correct: %.2f\" % (sum(table['Predicted Category'] == table['True Category'])/len(table['True Category'])))\n",
        "table"
      ],
      "execution_count": null,
      "outputs": []
    },
    {
      "cell_type": "markdown",
      "metadata": {
        "id": "GaPh1b8-ZCuk"
      },
      "source": [
        "**Discussion Exercise**: Which categories does the regressor perform best on?  Would the classifier perform better or worse if we only used the food vs water tweets?"
      ]
    },
    {
      "cell_type": "markdown",
      "metadata": {
        "id": "EvwjKTj9j58o"
      },
      "source": [
        "## Evaluation Metrics\n",
        "\n",
        "Let us look at some stats about the prediction to understand what the model predicted! Review day 1 for a refresher on accuracy-related metrics."
      ]
    },
    {
      "cell_type": "code",
      "metadata": {
        "id": "0AWBAFspnklt",
        "cellView": "form"
      },
      "source": [
        "#@title Run this to load the helper function for plotting our confusion matrix!\n",
        "'''\n",
        "Plots the confusion Matrix and saves it\n",
        "'''\n",
        "def plot_confusion_matrix(y_true,y_predicted):\n",
        "  cm = metrics.confusion_matrix(y_true, y_predicted)\n",
        "  print (\"Plotting the Confusion Matrix\")\n",
        "  labels = ['Energy', 'Food', 'Medical', 'None', 'Water']\n",
        "  df_cm = pd.DataFrame(cm,index =labels,columns = labels)\n",
        "  fig = plt.figure()\n",
        "  res = sns.heatmap(df_cm, annot=True,cmap='Blues', fmt='g')\n",
        "  plt.yticks([0.5,1.5,2.5,3.5,4.5], labels,va='center')\n",
        "  plt.title('Confusion Matrix - TestData')\n",
        "  plt.ylabel('True label')\n",
        "  plt.xlabel('Predicted label')\n",
        "  plt.show()\n",
        "  plt.close()\n",
        "\n",
        "\n"
      ],
      "execution_count": null,
      "outputs": []
    },
    {
      "cell_type": "code",
      "metadata": {
        "id": "sAqXjDIcBvnq"
      },
      "source": [
        "plot_confusion_matrix(y_test,y_pred)"
      ],
      "execution_count": null,
      "outputs": []
    },
    {
      "cell_type": "markdown",
      "metadata": {
        "id": "sjNNguK_-esv"
      },
      "source": [
        "Review day 1 for a refresher on accuracy metrics!"
      ]
    },
    {
      "cell_type": "code",
      "metadata": {
        "id": "tRLVrhvdB7Xj"
      },
      "source": [
        "print('The total number of correct predictions are: {}'.format(sum(table['Predicted Category'] == table['True Category'])))\n",
        "print('The total number of incorrect predictions are: {}'.format(sum(table['Predicted Category'] != table['True Category'])))"
      ],
      "execution_count": null,
      "outputs": []
    },
    {
      "cell_type": "code",
      "metadata": {
        "id": "LW0GoJB1_wbK"
      },
      "source": [
        "print('Accuracy on the test data is: {:.2f}%'.format(metrics.accuracy_score(y_test, y_pred)*100))"
      ],
      "execution_count": null,
      "outputs": []
    },
    {
      "cell_type": "markdown",
      "metadata": {
        "id": "-gg1B7NfkfzA"
      },
      "source": [
        "## Conclusion"
      ]
    },
    {
      "cell_type": "markdown",
      "metadata": {
        "id": "b1m0JuOtkhmi"
      },
      "source": [
        "**Discuss:** How could you use what you have built to help during a disaster?\n",
        "\n",
        "\n",
        "That is it for today! Next, we'll cover another model - GloVe. Review the concepts we covered today and enjoy the rest of your day!\n"
      ]
    }
  ]
}
